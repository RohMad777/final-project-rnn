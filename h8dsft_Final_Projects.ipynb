{
 "cells": [
  {
   "cell_type": "markdown",
   "id": "8342213d",
   "metadata": {
    "slideshow": {
     "slide_type": "slide"
    }
   },
   "source": [
    "## Perkenalan"
   ]
  },
  {
   "cell_type": "markdown",
   "id": "3317e5e0",
   "metadata": {
    "slideshow": {
     "slide_type": "slide"
    }
   },
   "source": [
    "Bab pengenalan harus diisi dengan identitas, gambaran besar dataset yang digunakan, dan objective yang ingin dicapai."
   ]
  },
  {
   "cell_type": "markdown",
   "id": "a55a80f8",
   "metadata": {
    "slideshow": {
     "slide_type": "slide"
    }
   },
   "source": [
    "<b>Nama:</b> RohMad <br/>\n",
    "<b>Phase:</b> 2<br/>\n",
    "<b>Type: </b> Final Projects\n",
    "<br/>\n",
    "<b>Dataset:</b> Product Reviews Tokopedia\n",
    "\n",
    "<br/> \n",
    "<b>Link:</b>https://www.kaggle.com/farhan999/tokopedia-product-reviews\n",
    "\n",
    "<br/>\n",
    "<b>Objective:</b> "
   ]
  },
  {
   "cell_type": "markdown",
   "id": "aba3b1ca",
   "metadata": {},
   "source": [
    "## Import pustaka yang dibutuhkan"
   ]
  },
  {
   "cell_type": "markdown",
   "id": "06fcef62",
   "metadata": {},
   "source": [
    "Cell pertama pada notebook harus berisi dan hanya berisi semua library yang digunakan dalam project."
   ]
  },
  {
   "cell_type": "code",
   "execution_count": 1,
   "id": "cc96572a",
   "metadata": {
    "ExecuteTime": {
     "end_time": "2021-09-15T22:43:18.860594Z",
     "start_time": "2021-09-15T22:43:08.313435Z"
    }
   },
   "outputs": [],
   "source": [
    "import pandas as pd\n",
    "from pandas_profiling import ProfileReport\n",
    "import nltk\n",
    "import re\n",
    "\n",
    "import matplotlib.pyplot as plt\n",
    "import seaborn as sns\n",
    "from sklearn.feature_extraction.text import CountVectorizer \n",
    "from sklearn.feature_extraction.text import TfidfTransformer \n",
    "from sklearn.model_selection import train_test_split \n",
    "from sklearn.metrics import classification_report, accuracy_score, roc_auc_score, make_scorer"
   ]
  },
  {
   "cell_type": "markdown",
   "id": "075e3a64",
   "metadata": {},
   "source": [
    "## Data Loading"
   ]
  },
  {
   "cell_type": "markdown",
   "id": "4cb0a927",
   "metadata": {},
   "source": [
    "Bagian ini berisi proses data loading yang kemudian dilanjutkan dengan explorasi data secara sederhana."
   ]
  },
  {
   "cell_type": "code",
   "execution_count": 2,
   "id": "240e6bff",
   "metadata": {
    "ExecuteTime": {
     "end_time": "2021-09-15T22:43:19.244497Z",
     "start_time": "2021-09-15T22:43:18.860594Z"
    }
   },
   "outputs": [],
   "source": [
    "df_raw = pd.read_csv('./data/product_reviews_dirty.csv')"
   ]
  },
  {
   "cell_type": "code",
   "execution_count": 3,
   "id": "9f37d937",
   "metadata": {
    "ExecuteTime": {
     "end_time": "2021-09-15T22:43:19.308399Z",
     "start_time": "2021-09-15T22:43:19.244497Z"
    }
   },
   "outputs": [
    {
     "name": "stdout",
     "output_type": "stream",
     "text": [
      "(40607, 9)\n"
     ]
    },
    {
     "data": {
      "text/html": [
       "<div>\n",
       "<style scoped>\n",
       "    .dataframe tbody tr th:only-of-type {\n",
       "        vertical-align: middle;\n",
       "    }\n",
       "\n",
       "    .dataframe tbody tr th {\n",
       "        vertical-align: top;\n",
       "    }\n",
       "\n",
       "    .dataframe thead th {\n",
       "        text-align: right;\n",
       "    }\n",
       "</style>\n",
       "<table border=\"1\" class=\"dataframe\">\n",
       "  <thead>\n",
       "    <tr style=\"text-align: right;\">\n",
       "      <th></th>\n",
       "      <th>Unnamed: 0</th>\n",
       "      <th>text</th>\n",
       "      <th>rating</th>\n",
       "      <th>category</th>\n",
       "      <th>product_name</th>\n",
       "      <th>product_id</th>\n",
       "      <th>sold</th>\n",
       "      <th>shop_id</th>\n",
       "      <th>product_url</th>\n",
       "    </tr>\n",
       "  </thead>\n",
       "  <tbody>\n",
       "    <tr>\n",
       "      <th>0</th>\n",
       "      <td>1</td>\n",
       "      <td>Barang sesuai pesanan dan cepat sampai</td>\n",
       "      <td>5</td>\n",
       "      <td>pertukangan</td>\n",
       "      <td>Staples Dekorasi Staples Kayu + Refill 8mm - S...</td>\n",
       "      <td>418660637</td>\n",
       "      <td>1</td>\n",
       "      <td>1740837</td>\n",
       "      <td>https://www.tokopedia.com/shakaonline87/staple...</td>\n",
       "    </tr>\n",
       "    <tr>\n",
       "      <th>1</th>\n",
       "      <td>2</td>\n",
       "      <td>Barang bagus harga murah</td>\n",
       "      <td>5</td>\n",
       "      <td>pertukangan</td>\n",
       "      <td>STAPLE GUN ATS 3 WAY TACKER - STAPLES JOK TEMB...</td>\n",
       "      <td>416032545</td>\n",
       "      <td>11</td>\n",
       "      <td>1477109</td>\n",
       "      <td>https://www.tokopedia.com/juraganperkakas/stap...</td>\n",
       "    </tr>\n",
       "    <tr>\n",
       "      <th>2</th>\n",
       "      <td>3</td>\n",
       "      <td>Paket rapi...mantap....cepat....sampe ke tujuan</td>\n",
       "      <td>5</td>\n",
       "      <td>pertukangan</td>\n",
       "      <td>STAPLE GUN ATS 3 WAY TACKER - STAPLES JOK TEMB...</td>\n",
       "      <td>416032545</td>\n",
       "      <td>11</td>\n",
       "      <td>1477109</td>\n",
       "      <td>https://www.tokopedia.com/juraganperkakas/stap...</td>\n",
       "    </tr>\n",
       "    <tr>\n",
       "      <th>3</th>\n",
       "      <td>4</td>\n",
       "      <td>ya saya puas dgn barangnya</td>\n",
       "      <td>5</td>\n",
       "      <td>pertukangan</td>\n",
       "      <td>ALAT STAPLES TEMBAK &amp;#40;AIR NAILER GUN&amp;#41; O...</td>\n",
       "      <td>102279869</td>\n",
       "      <td>5</td>\n",
       "      <td>771395</td>\n",
       "      <td>https://www.tokopedia.com/kamarmesin/alat-stap...</td>\n",
       "    </tr>\n",
       "    <tr>\n",
       "      <th>4</th>\n",
       "      <td>5</td>\n",
       "      <td>Responya luar biasa b mantap</td>\n",
       "      <td>5</td>\n",
       "      <td>pertukangan</td>\n",
       "      <td>Isi Refill Staples Jok Kulit Motor / Staple Gu...</td>\n",
       "      <td>190679689</td>\n",
       "      <td>787</td>\n",
       "      <td>969999</td>\n",
       "      <td>https://www.tokopedia.com/mitrapersada/isi-ref...</td>\n",
       "    </tr>\n",
       "  </tbody>\n",
       "</table>\n",
       "</div>"
      ],
      "text/plain": [
       "   Unnamed: 0                                             text  rating  \\\n",
       "0           1           Barang sesuai pesanan dan cepat sampai       5   \n",
       "1           2                         Barang bagus harga murah       5   \n",
       "2           3  Paket rapi...mantap....cepat....sampe ke tujuan       5   \n",
       "3           4                       ya saya puas dgn barangnya       5   \n",
       "4           5                     Responya luar biasa b mantap       5   \n",
       "\n",
       "      category                                       product_name  product_id  \\\n",
       "0  pertukangan  Staples Dekorasi Staples Kayu + Refill 8mm - S...   418660637   \n",
       "1  pertukangan  STAPLE GUN ATS 3 WAY TACKER - STAPLES JOK TEMB...   416032545   \n",
       "2  pertukangan  STAPLE GUN ATS 3 WAY TACKER - STAPLES JOK TEMB...   416032545   \n",
       "3  pertukangan  ALAT STAPLES TEMBAK &#40;AIR NAILER GUN&#41; O...   102279869   \n",
       "4  pertukangan  Isi Refill Staples Jok Kulit Motor / Staple Gu...   190679689   \n",
       "\n",
       "  sold  shop_id                                        product_url  \n",
       "0    1  1740837  https://www.tokopedia.com/shakaonline87/staple...  \n",
       "1   11  1477109  https://www.tokopedia.com/juraganperkakas/stap...  \n",
       "2   11  1477109  https://www.tokopedia.com/juraganperkakas/stap...  \n",
       "3    5   771395  https://www.tokopedia.com/kamarmesin/alat-stap...  \n",
       "4  787   969999  https://www.tokopedia.com/mitrapersada/isi-ref...  "
      ]
     },
     "execution_count": 3,
     "metadata": {},
     "output_type": "execute_result"
    }
   ],
   "source": [
    "print(df_raw.shape)\n",
    "df_raw.head(5)"
   ]
  },
  {
   "cell_type": "code",
   "execution_count": 4,
   "id": "3e458e00",
   "metadata": {
    "ExecuteTime": {
     "end_time": "2021-09-15T22:43:19.372407Z",
     "start_time": "2021-09-15T22:43:19.316399Z"
    }
   },
   "outputs": [
    {
     "name": "stdout",
     "output_type": "stream",
     "text": [
      "<class 'pandas.core.frame.DataFrame'>\n",
      "RangeIndex: 40607 entries, 0 to 40606\n",
      "Data columns (total 9 columns):\n",
      " #   Column        Non-Null Count  Dtype \n",
      "---  ------        --------------  ----- \n",
      " 0   Unnamed: 0    40607 non-null  int64 \n",
      " 1   text          40607 non-null  object\n",
      " 2   rating        40607 non-null  int64 \n",
      " 3   category      40607 non-null  object\n",
      " 4   product_name  40607 non-null  object\n",
      " 5   product_id    40607 non-null  int64 \n",
      " 6   sold          40593 non-null  object\n",
      " 7   shop_id       40607 non-null  int64 \n",
      " 8   product_url   40607 non-null  object\n",
      "dtypes: int64(4), object(5)\n",
      "memory usage: 2.8+ MB\n"
     ]
    }
   ],
   "source": [
    "df_raw.info()"
   ]
  },
  {
   "cell_type": "markdown",
   "id": "5c9d8256",
   "metadata": {},
   "source": [
    "## Data Cleaning"
   ]
  },
  {
   "cell_type": "markdown",
   "id": "77a58abf",
   "metadata": {},
   "source": [
    "Bagian ini berisi proses penyiapan data berupa data cleaning sebelum dilakukan explorasi data lebih lanjut. Proses cleaning dapat berupa memberi nama baru untuk setiap kolom, mengisi missing values, menghapus kolom yang tidak dipakai, dan lain sebagainya."
   ]
  },
  {
   "cell_type": "code",
   "execution_count": 5,
   "id": "ef971d24",
   "metadata": {
    "ExecuteTime": {
     "end_time": "2021-09-15T22:43:19.444398Z",
     "start_time": "2021-09-15T22:43:19.372407Z"
    }
   },
   "outputs": [
    {
     "data": {
      "text/plain": [
       "Unnamed: 0       0\n",
       "text             0\n",
       "rating           0\n",
       "category         0\n",
       "product_name     0\n",
       "product_id       0\n",
       "sold            14\n",
       "shop_id          0\n",
       "product_url      0\n",
       "dtype: int64"
      ]
     },
     "execution_count": 5,
     "metadata": {},
     "output_type": "execute_result"
    }
   ],
   "source": [
    "df_raw.isnull().sum()"
   ]
  },
  {
   "cell_type": "code",
   "execution_count": 6,
   "id": "f1e8970f",
   "metadata": {
    "ExecuteTime": {
     "end_time": "2021-09-15T22:43:19.460401Z",
     "start_time": "2021-09-15T22:43:19.452397Z"
    }
   },
   "outputs": [],
   "source": [
    "# report = df_raw.profile_report(title=\"Tokopedia Reviews\",\n",
    "#                              progress_bar=False)\n",
    "# report.to_file(\"tokopediadata.html\")"
   ]
  },
  {
   "cell_type": "markdown",
   "id": "74287915",
   "metadata": {},
   "source": [
    "#### Delete unneeded columns"
   ]
  },
  {
   "cell_type": "code",
   "execution_count": 7,
   "id": "56088455",
   "metadata": {
    "ExecuteTime": {
     "end_time": "2021-09-15T22:43:19.484397Z",
     "start_time": "2021-09-15T22:43:19.460401Z"
    }
   },
   "outputs": [],
   "source": [
    "df_raw.drop(columns=['Unnamed: 0','shop_id','product_url'], inplace=True)"
   ]
  },
  {
   "cell_type": "code",
   "execution_count": 8,
   "id": "91e19558",
   "metadata": {
    "ExecuteTime": {
     "end_time": "2021-09-15T22:43:19.540399Z",
     "start_time": "2021-09-15T22:43:19.484397Z"
    }
   },
   "outputs": [
    {
     "data": {
      "text/plain": [
       "text             0\n",
       "rating           0\n",
       "category         0\n",
       "product_name     0\n",
       "product_id       0\n",
       "sold            14\n",
       "dtype: int64"
      ]
     },
     "execution_count": 8,
     "metadata": {},
     "output_type": "execute_result"
    }
   ],
   "source": [
    "df_raw.isnull().sum()"
   ]
  },
  {
   "cell_type": "code",
   "execution_count": 150,
   "id": "fddada7c",
   "metadata": {
    "ExecuteTime": {
     "end_time": "2021-09-16T00:05:19.172492Z",
     "start_time": "2021-09-16T00:05:19.119493Z"
    }
   },
   "outputs": [],
   "source": [
    "df_raw.dropna(inplace=True)"
   ]
  },
  {
   "cell_type": "markdown",
   "id": "c7c7251c",
   "metadata": {},
   "source": [
    "##### Chek duplicated values"
   ]
  },
  {
   "cell_type": "code",
   "execution_count": 9,
   "id": "8aed1052",
   "metadata": {
    "ExecuteTime": {
     "end_time": "2021-09-15T22:43:19.636400Z",
     "start_time": "2021-09-15T22:43:19.540399Z"
    }
   },
   "outputs": [
    {
     "data": {
      "text/plain": [
       "0"
      ]
     },
     "execution_count": 9,
     "metadata": {},
     "output_type": "execute_result"
    }
   ],
   "source": [
    "df_raw.duplicated().sum()"
   ]
  },
  {
   "cell_type": "code",
   "execution_count": 10,
   "id": "c08e8942",
   "metadata": {
    "ExecuteTime": {
     "end_time": "2021-09-15T22:43:19.700406Z",
     "start_time": "2021-09-15T22:43:19.644401Z"
    },
    "scrolled": true
   },
   "outputs": [
    {
     "data": {
      "text/html": [
       "<div>\n",
       "<style scoped>\n",
       "    .dataframe tbody tr th:only-of-type {\n",
       "        vertical-align: middle;\n",
       "    }\n",
       "\n",
       "    .dataframe tbody tr th {\n",
       "        vertical-align: top;\n",
       "    }\n",
       "\n",
       "    .dataframe thead th {\n",
       "        text-align: right;\n",
       "    }\n",
       "</style>\n",
       "<table border=\"1\" class=\"dataframe\">\n",
       "  <thead>\n",
       "    <tr style=\"text-align: right;\">\n",
       "      <th></th>\n",
       "      <th>rating</th>\n",
       "      <th>product_id</th>\n",
       "    </tr>\n",
       "  </thead>\n",
       "  <tbody>\n",
       "    <tr>\n",
       "      <th>count</th>\n",
       "      <td>40607.000000</td>\n",
       "      <td>4.060700e+04</td>\n",
       "    </tr>\n",
       "    <tr>\n",
       "      <th>mean</th>\n",
       "      <td>4.642574</td>\n",
       "      <td>1.985060e+08</td>\n",
       "    </tr>\n",
       "    <tr>\n",
       "      <th>std</th>\n",
       "      <td>0.732448</td>\n",
       "      <td>1.284990e+08</td>\n",
       "    </tr>\n",
       "    <tr>\n",
       "      <th>min</th>\n",
       "      <td>1.000000</td>\n",
       "      <td>1.505048e+06</td>\n",
       "    </tr>\n",
       "    <tr>\n",
       "      <th>25%</th>\n",
       "      <td>4.000000</td>\n",
       "      <td>1.052222e+08</td>\n",
       "    </tr>\n",
       "    <tr>\n",
       "      <th>50%</th>\n",
       "      <td>5.000000</td>\n",
       "      <td>1.829377e+08</td>\n",
       "    </tr>\n",
       "    <tr>\n",
       "      <th>75%</th>\n",
       "      <td>5.000000</td>\n",
       "      <td>2.889640e+08</td>\n",
       "    </tr>\n",
       "    <tr>\n",
       "      <th>max</th>\n",
       "      <td>5.000000</td>\n",
       "      <td>5.028693e+08</td>\n",
       "    </tr>\n",
       "  </tbody>\n",
       "</table>\n",
       "</div>"
      ],
      "text/plain": [
       "             rating    product_id\n",
       "count  40607.000000  4.060700e+04\n",
       "mean       4.642574  1.985060e+08\n",
       "std        0.732448  1.284990e+08\n",
       "min        1.000000  1.505048e+06\n",
       "25%        4.000000  1.052222e+08\n",
       "50%        5.000000  1.829377e+08\n",
       "75%        5.000000  2.889640e+08\n",
       "max        5.000000  5.028693e+08"
      ]
     },
     "execution_count": 10,
     "metadata": {},
     "output_type": "execute_result"
    }
   ],
   "source": [
    "df_raw.describe()"
   ]
  },
  {
   "cell_type": "markdown",
   "id": "7a48dcea",
   "metadata": {},
   "source": [
    "## Explorasi Data"
   ]
  },
  {
   "cell_type": "code",
   "execution_count": 11,
   "id": "41e446d8",
   "metadata": {
    "ExecuteTime": {
     "end_time": "2021-09-15T22:43:19.748399Z",
     "start_time": "2021-09-15T22:43:19.708402Z"
    }
   },
   "outputs": [
    {
     "data": {
      "text/html": [
       "<div>\n",
       "<style scoped>\n",
       "    .dataframe tbody tr th:only-of-type {\n",
       "        vertical-align: middle;\n",
       "    }\n",
       "\n",
       "    .dataframe tbody tr th {\n",
       "        vertical-align: top;\n",
       "    }\n",
       "\n",
       "    .dataframe thead th {\n",
       "        text-align: right;\n",
       "    }\n",
       "</style>\n",
       "<table border=\"1\" class=\"dataframe\">\n",
       "  <thead>\n",
       "    <tr style=\"text-align: right;\">\n",
       "      <th></th>\n",
       "      <th>text</th>\n",
       "      <th>rating</th>\n",
       "      <th>category</th>\n",
       "      <th>product_name</th>\n",
       "      <th>product_id</th>\n",
       "      <th>sold</th>\n",
       "    </tr>\n",
       "  </thead>\n",
       "  <tbody>\n",
       "    <tr>\n",
       "      <th>0</th>\n",
       "      <td>Barang sesuai pesanan dan cepat sampai</td>\n",
       "      <td>5</td>\n",
       "      <td>pertukangan</td>\n",
       "      <td>Staples Dekorasi Staples Kayu + Refill 8mm - S...</td>\n",
       "      <td>418660637</td>\n",
       "      <td>1</td>\n",
       "    </tr>\n",
       "    <tr>\n",
       "      <th>1</th>\n",
       "      <td>Barang bagus harga murah</td>\n",
       "      <td>5</td>\n",
       "      <td>pertukangan</td>\n",
       "      <td>STAPLE GUN ATS 3 WAY TACKER - STAPLES JOK TEMB...</td>\n",
       "      <td>416032545</td>\n",
       "      <td>11</td>\n",
       "    </tr>\n",
       "  </tbody>\n",
       "</table>\n",
       "</div>"
      ],
      "text/plain": [
       "                                     text  rating     category  \\\n",
       "0  Barang sesuai pesanan dan cepat sampai       5  pertukangan   \n",
       "1                Barang bagus harga murah       5  pertukangan   \n",
       "\n",
       "                                        product_name  product_id sold  \n",
       "0  Staples Dekorasi Staples Kayu + Refill 8mm - S...   418660637    1  \n",
       "1  STAPLE GUN ATS 3 WAY TACKER - STAPLES JOK TEMB...   416032545   11  "
      ]
     },
     "execution_count": 11,
     "metadata": {},
     "output_type": "execute_result"
    }
   ],
   "source": [
    "df_raw.head(2)"
   ]
  },
  {
   "cell_type": "code",
   "execution_count": 12,
   "id": "1329e512",
   "metadata": {
    "ExecuteTime": {
     "end_time": "2021-09-15T22:43:19.788402Z",
     "start_time": "2021-09-15T22:43:19.756402Z"
    }
   },
   "outputs": [
    {
     "data": {
      "text/plain": [
       "category\n",
       "elektronik     15897\n",
       "fashion         8910\n",
       "handphone       6136\n",
       "olahraga        7838\n",
       "pertukangan     1826\n",
       "Name: product_id, dtype: int64"
      ]
     },
     "execution_count": 12,
     "metadata": {},
     "output_type": "execute_result"
    }
   ],
   "source": [
    "category_jlm = df_raw.groupby(['category'])['product_id'].count()\n",
    "category_jlm"
   ]
  },
  {
   "cell_type": "code",
   "execution_count": 13,
   "id": "55579ec2",
   "metadata": {
    "ExecuteTime": {
     "end_time": "2021-09-15T22:43:19.820400Z",
     "start_time": "2021-09-15T22:43:19.788402Z"
    }
   },
   "outputs": [
    {
     "data": {
      "text/plain": [
       "0     Staples Dekorasi Staples Kayu + Refill 8mm - S...\n",
       "1     STAPLE GUN ATS 3 WAY TACKER - STAPLES JOK TEMB...\n",
       "2     STAPLE GUN ATS 3 WAY TACKER - STAPLES JOK TEMB...\n",
       "3     ALAT STAPLES TEMBAK &#40;AIR NAILER GUN&#41; O...\n",
       "4     Isi Refill Staples Jok Kulit Motor / Staple Gu...\n",
       "5     Isi Refill Staples Jok Kulit Motor / Staple Gu...\n",
       "6     Isi Refill Staples Jok Kulit Motor / Staple Gu...\n",
       "7     Isi Refill Staples Jok Kulit Motor / Staple Gu...\n",
       "8     refill staples gun tacker manual isi paku temb...\n",
       "9     refill staples gun tacker manual isi paku temb...\n",
       "10    refill staples gun tacker manual isi paku temb...\n",
       "11    refill staples gun tacker manual isi paku temb...\n",
       "12    refill staples gun tacker manual isi paku temb...\n",
       "13    refill staples gun tacker manual isi paku temb...\n",
       "14    refill staples gun tacker manual isi paku temb...\n",
       "15    refill staples gun tacker manual isi paku temb...\n",
       "16    refill staples gun tacker manual isi paku temb...\n",
       "17    refill staples gun tacker manual isi paku temb...\n",
       "18    refill staples gun tacker manual isi paku temb...\n",
       "19    refill staples gun tacker manual isi paku temb...\n",
       "Name: product_name, dtype: object"
      ]
     },
     "execution_count": 13,
     "metadata": {},
     "output_type": "execute_result"
    }
   ],
   "source": [
    "ambildata = df_raw.iloc[:20]\n",
    "ambildata['product_name']"
   ]
  },
  {
   "cell_type": "code",
   "execution_count": 14,
   "id": "4815addc",
   "metadata": {
    "ExecuteTime": {
     "end_time": "2021-09-15T22:43:20.476398Z",
     "start_time": "2021-09-15T22:43:19.820400Z"
    }
   },
   "outputs": [
    {
     "data": {
      "image/png": "[encoded data removed]",
      "text/plain": [
       "<Figure size 432x288 with 1 Axes>"
      ]
     },
     "metadata": {
      "needs_background": "light"
     },
     "output_type": "display_data"
    }
   ],
   "source": [
    "jenis = df_raw.groupby(['category'])['product_id'].count()\n",
    "\n",
    "plt.bar(jenis.index, jenis)\n",
    "plt.ylabel(\"Jumlah masing - masing produk\")\n",
    "plt.xlabel(\"Jenis produk yang ada\")\n",
    "plt.title(\"Jumlah produk yang ada berdasarkan kategori\")\n",
    "plt.show()"
   ]
  },
  {
   "cell_type": "code",
   "execution_count": 15,
   "id": "50c5eedc",
   "metadata": {
    "ExecuteTime": {
     "end_time": "2021-09-15T22:43:21.244406Z",
     "start_time": "2021-09-15T22:43:20.476398Z"
    }
   },
   "outputs": [
    {
     "data": {
      "image/png": "[encoded data removed]",
      "text/plain": [
       "<Figure size 432x288 with 1 Axes>"
      ]
     },
     "metadata": {
      "needs_background": "light"
     },
     "output_type": "display_data"
    }
   ],
   "source": [
    "jumlahprodukterjual = df_raw.groupby(['product_name'])['sold'].count().iloc[:20]\n",
    "plt.barh(jumlahprodukterjual.index, jumlahprodukterjual)\n",
    "plt.ylabel(\"nama produk\")\n",
    "plt.xlabel(\"Jumlah\")\n",
    "plt.title(\"Jumlah produk terjual pada 20 data pertama\")\n",
    "plt.show()"
   ]
  },
  {
   "cell_type": "code",
   "execution_count": 16,
   "id": "315045c5",
   "metadata": {
    "ExecuteTime": {
     "end_time": "2021-09-15T22:43:21.516411Z",
     "start_time": "2021-09-15T22:43:21.244406Z"
    }
   },
   "outputs": [
    {
     "data": {
      "image/png": "[encoded data removed]",
      "text/plain": [
       "<Figure size 432x288 with 1 Axes>"
      ]
     },
     "metadata": {
      "needs_background": "light"
     },
     "output_type": "display_data"
    }
   ],
   "source": [
    "jumlahprodukterjualberdasarkanrating = df_raw.groupby(['rating'])['sold'].count()\n",
    "plt.bar(jumlahprodukterjualberdasarkanrating.index, jumlahprodukterjualberdasarkanrating)\n",
    "plt.ylabel(\"jumlah\")\n",
    "plt.xlabel(\"rating\")\n",
    "plt.title(\"Jumlah produk terjual berdasarkan rating\")\n",
    "plt.show()"
   ]
  },
  {
   "cell_type": "markdown",
   "id": "e10cf6e9",
   "metadata": {},
   "source": [
    "## Data Preprocessing"
   ]
  },
  {
   "cell_type": "markdown",
   "id": "d57a3c86",
   "metadata": {},
   "source": [
    "Bagian ini berisi proses penyiapan data untuk proses pelatihan model, seperti pembagian data menjadi train-val-test, transformasi data (normalisasi, encoding, dll.), dan proses-proses lain yang dibutuhkan."
   ]
  },
  {
   "cell_type": "code",
   "execution_count": 17,
   "id": "383bfba5",
   "metadata": {
    "ExecuteTime": {
     "end_time": "2021-09-15T22:43:21.540396Z",
     "start_time": "2021-09-15T22:43:21.516411Z"
    },
    "code_folding": [
     1
    ]
   },
   "outputs": [],
   "source": [
    "import re\n",
    "def proc_feature(features):\n",
    "    # Remove all the special characters\n",
    "    processed_feature = re.sub(r'\\W', ' ', features)\n",
    "    processed_feature = re.sub(r'\\s+[a-zA-Z]\\s+', ' ', processed_feature)\n",
    "    processed_feature = re.sub(r'\\^[a-zA-Z]\\s+', ' ', processed_feature) \n",
    "    processed_feature = re.sub(r'\\s+', ' ', processed_feature, flags=re.I)\n",
    "    processed_feature = re.sub(r'^b\\s+', '', processed_feature)\n",
    "    processed_feature = processed_feature.lower()  \n",
    "    regrex_pattern = re.compile(pattern = \"[\"\n",
    "        u\"\\U0001F600-\\U0001F64F\"  # emoticons\n",
    "        u\"\\U0001F300-\\U0001F5FF\"  # symbols & pictographs\n",
    "        u\"\\U0001F680-\\U0001F6FF\"  # transport & map symbols\n",
    "        u\"\\U0001F1E0-\\U0001F1FF\"  # flags (iOS)\n",
    "                           \"]+\", flags = re.UNICODE)\n",
    "    processed_feature = regrex_pattern.sub(r'',processed_feature)\n",
    "    processed_feature = re.sub(r'[^\\x00-\\x7F]+',' ', processed_feature)\n",
    "    return(processed_feature)"
   ]
  },
  {
   "cell_type": "code",
   "execution_count": 18,
   "id": "70b82b6c",
   "metadata": {
    "ExecuteTime": {
     "end_time": "2021-09-15T22:43:23.700465Z",
     "start_time": "2021-09-15T22:43:21.540396Z"
    }
   },
   "outputs": [],
   "source": [
    "#Load data list kata bersentimen negatif\n",
    "neg_file=pd.read_csv('https://github.com/riochr17/Analisis-Sentimen-ID/raw/master/data/negatif.txt',header=None,delimiter='\\t').values\n",
    "neg_file=list(neg_file.reshape(neg_file.shape[0],))\n",
    "\n",
    "#Load data list kata bersentimen positif\n",
    "pst_file=pd.read_csv('https://github.com/riochr17/Analisis-Sentimen-ID/raw/master/data/positif.txt',header=None,delimiter='\\t').values\n",
    "pst_file=list(pst_file.reshape(pst_file.shape[0],))"
   ]
  },
  {
   "cell_type": "code",
   "execution_count": 19,
   "id": "ad5bc0b7",
   "metadata": {
    "ExecuteTime": {
     "end_time": "2021-09-15T22:43:24.950471Z",
     "start_time": "2021-09-15T22:43:23.730340Z"
    }
   },
   "outputs": [],
   "source": [
    "#Load data list stopwords bahasa indonesia\n",
    "stp_word=pd.read_csv('https://github.com/stopwords-iso/stopwords-id/raw/master/stopwords-id.txt',header=None).values"
   ]
  },
  {
   "cell_type": "code",
   "execution_count": 20,
   "id": "04a9f3f6",
   "metadata": {
    "ExecuteTime": {
     "end_time": "2021-09-15T22:43:32.681464Z",
     "start_time": "2021-09-15T22:43:24.958410Z"
    }
   },
   "outputs": [],
   "source": [
    "#//Diambil 30000 data secara acak untuk dilakukan training data dan model test\n",
    "sample=df_raw.sample(30000).reset_index(drop=True)\n",
    "sample['text']=sample['text'].apply(lambda x: proc_feature(x)) #Filter karakter dan kata pada masing-masing data\n",
    "#Penghapusan stopwords\n",
    "sample['text_stpw']=sample['text'].apply(lambda x: ' '.join([item for item in x.split(' ') if item not in stp_word]))"
   ]
  },
  {
   "cell_type": "code",
   "execution_count": 21,
   "id": "683d1e95",
   "metadata": {
    "ExecuteTime": {
     "end_time": "2021-09-15T22:43:52.556281Z",
     "start_time": "2021-09-15T22:43:32.681464Z"
    }
   },
   "outputs": [],
   "source": [
    "#Pada bagian ini, dihitung jumlah kata negatif dan positif masing-masing tweet berdasarkan list kata pada neg_file dan pst_file\n",
    "\n",
    "post_words_count=sample['text_stpw'].apply(lambda x: len([w for w in x.split(' ') if w in pst_file]))\n",
    "neg_words_count=sample['text_stpw'].apply(lambda x: len([w for w in x.split(' ') if w in neg_file]))"
   ]
  },
  {
   "cell_type": "code",
   "execution_count": 22,
   "id": "9bc56b39",
   "metadata": {
    "ExecuteTime": {
     "end_time": "2021-09-15T22:43:52.634014Z",
     "start_time": "2021-09-15T22:43:52.556281Z"
    }
   },
   "outputs": [],
   "source": [
    "#Menghitung skor sentimen, selisih jml kata positif dan negatif\n",
    "sample['sent_score']=(post_words_count-neg_words_count)\n",
    "#Memberi sign utk selisih <0 -1, >0 1, dan =0 0\n",
    "sample['sentiment']=sample['sent_score'].apply(lambda x: 1 if x>0 else -1 if x<0 else 0)"
   ]
  },
  {
   "cell_type": "code",
   "execution_count": 23,
   "id": "9ed5a7da",
   "metadata": {
    "ExecuteTime": {
     "end_time": "2021-09-15T22:43:52.650017Z",
     "start_time": "2021-09-15T22:43:52.634014Z"
    }
   },
   "outputs": [],
   "source": [
    "#sample.head(5)"
   ]
  },
  {
   "cell_type": "code",
   "execution_count": 24,
   "id": "4a5e2e69",
   "metadata": {
    "ExecuteTime": {
     "end_time": "2021-09-15T22:43:52.682014Z",
     "start_time": "2021-09-15T22:43:52.658014Z"
    }
   },
   "outputs": [
    {
     "data": {
      "text/plain": [
       " 1    22423\n",
       " 0     7028\n",
       "-1      549\n",
       "Name: sentiment, dtype: int64"
      ]
     },
     "execution_count": 24,
     "metadata": {},
     "output_type": "execute_result"
    }
   ],
   "source": [
    "sample.sentiment.value_counts()"
   ]
  },
  {
   "cell_type": "code",
   "execution_count": 25,
   "id": "413b79ee",
   "metadata": {
    "ExecuteTime": {
     "end_time": "2021-09-15T22:43:53.026013Z",
     "start_time": "2021-09-15T22:43:52.682014Z"
    }
   },
   "outputs": [
    {
     "data": {
      "image/png": "[encoded data removed]",
      "text/plain": [
       "<Figure size 432x288 with 1 Axes>"
      ]
     },
     "metadata": {
      "needs_background": "light"
     },
     "output_type": "display_data"
    }
   ],
   "source": [
    "ax = sns.countplot(x=\"sentiment\", data=sample, palette=\"Set2\")"
   ]
  },
  {
   "cell_type": "code",
   "execution_count": 26,
   "id": "14be5763",
   "metadata": {
    "ExecuteTime": {
     "end_time": "2021-09-15T22:43:53.078155Z",
     "start_time": "2021-09-15T22:43:53.034014Z"
    }
   },
   "outputs": [],
   "source": [
    "#Memberi sign utk selisih <0 -1, >0 1, dan =0 0\n",
    "sample['sentiment_rat']=sample['rating'].apply(lambda x : -1 if x <3 else 0 if x==3 else 1)"
   ]
  },
  {
   "cell_type": "code",
   "execution_count": 27,
   "id": "46fb8b1b",
   "metadata": {
    "ExecuteTime": {
     "end_time": "2021-09-15T22:43:53.110151Z",
     "start_time": "2021-09-15T22:43:53.078155Z"
    }
   },
   "outputs": [
    {
     "data": {
      "text/plain": [
       " 1    28014\n",
       " 0     1311\n",
       "-1      675\n",
       "Name: sentiment_rat, dtype: int64"
      ]
     },
     "execution_count": 27,
     "metadata": {},
     "output_type": "execute_result"
    }
   ],
   "source": [
    "sample.sentiment_rat.value_counts()"
   ]
  },
  {
   "cell_type": "code",
   "execution_count": 28,
   "id": "18ddb1ca",
   "metadata": {
    "ExecuteTime": {
     "end_time": "2021-09-15T22:43:53.310246Z",
     "start_time": "2021-09-15T22:43:53.118155Z"
    }
   },
   "outputs": [
    {
     "data": {
      "image/png": "[encoded data removed]",
      "text/plain": [
       "<Figure size 432x288 with 1 Axes>"
      ]
     },
     "metadata": {
      "needs_background": "light"
     },
     "output_type": "display_data"
    }
   ],
   "source": [
    "axe = sns.countplot(x=\"sentiment_rat\", data=sample, palette=\"Set1\")"
   ]
  },
  {
   "cell_type": "code",
   "execution_count": 29,
   "id": "e9b4cb37",
   "metadata": {
    "ExecuteTime": {
     "end_time": "2021-09-15T22:43:53.342197Z",
     "start_time": "2021-09-15T22:43:53.310246Z"
    }
   },
   "outputs": [
    {
     "data": {
      "text/html": [
       "<div>\n",
       "<style scoped>\n",
       "    .dataframe tbody tr th:only-of-type {\n",
       "        vertical-align: middle;\n",
       "    }\n",
       "\n",
       "    .dataframe tbody tr th {\n",
       "        vertical-align: top;\n",
       "    }\n",
       "\n",
       "    .dataframe thead th {\n",
       "        text-align: right;\n",
       "    }\n",
       "</style>\n",
       "<table border=\"1\" class=\"dataframe\">\n",
       "  <thead>\n",
       "    <tr style=\"text-align: right;\">\n",
       "      <th></th>\n",
       "      <th>text</th>\n",
       "      <th>rating</th>\n",
       "      <th>category</th>\n",
       "      <th>product_name</th>\n",
       "      <th>product_id</th>\n",
       "      <th>sold</th>\n",
       "      <th>text_stpw</th>\n",
       "      <th>sent_score</th>\n",
       "      <th>sentiment</th>\n",
       "      <th>sentiment_rat</th>\n",
       "    </tr>\n",
       "  </thead>\n",
       "  <tbody>\n",
       "    <tr>\n",
       "      <th>0</th>\n",
       "      <td>produk sesuai dengan deskripsi pengiriman cepat</td>\n",
       "      <td>5</td>\n",
       "      <td>fashion</td>\n",
       "      <td>Casio Jam Tangan Unisex MQ-76</td>\n",
       "      <td>389508038</td>\n",
       "      <td>254</td>\n",
       "      <td>produk sesuai deskripsi pengiriman cepat</td>\n",
       "      <td>2</td>\n",
       "      <td>1</td>\n",
       "      <td>1</td>\n",
       "    </tr>\n",
       "    <tr>\n",
       "      <th>1</th>\n",
       "      <td>makasih banyak kakakkkk</td>\n",
       "      <td>5</td>\n",
       "      <td>elektronik</td>\n",
       "      <td>Kabel Printer LPT to USB / USB to Pararel Conv...</td>\n",
       "      <td>178726506</td>\n",
       "      <td>280</td>\n",
       "      <td>makasih kakakkkk</td>\n",
       "      <td>0</td>\n",
       "      <td>0</td>\n",
       "      <td>1</td>\n",
       "    </tr>\n",
       "  </tbody>\n",
       "</table>\n",
       "</div>"
      ],
      "text/plain": [
       "                                              text  rating    category  \\\n",
       "0  produk sesuai dengan deskripsi pengiriman cepat       5     fashion   \n",
       "1                          makasih banyak kakakkkk       5  elektronik   \n",
       "\n",
       "                                        product_name  product_id sold  \\\n",
       "0                      Casio Jam Tangan Unisex MQ-76   389508038  254   \n",
       "1  Kabel Printer LPT to USB / USB to Pararel Conv...   178726506  280   \n",
       "\n",
       "                                  text_stpw  sent_score  sentiment  \\\n",
       "0  produk sesuai deskripsi pengiriman cepat           2          1   \n",
       "1                          makasih kakakkkk           0          0   \n",
       "\n",
       "   sentiment_rat  \n",
       "0              1  \n",
       "1              1  "
      ]
     },
     "execution_count": 29,
     "metadata": {},
     "output_type": "execute_result"
    }
   ],
   "source": [
    "sample.head(2)"
   ]
  },
  {
   "cell_type": "markdown",
   "id": "b765696f",
   "metadata": {},
   "source": [
    "#### Spliting data"
   ]
  },
  {
   "cell_type": "code",
   "execution_count": 30,
   "id": "5f1e4ebd",
   "metadata": {
    "ExecuteTime": {
     "end_time": "2021-09-15T22:43:53.358161Z",
     "start_time": "2021-09-15T22:43:53.342197Z"
    }
   },
   "outputs": [],
   "source": [
    "X = sample.text_stpw\n",
    "y = sample.sentiment\n",
    "yr = sample.sentiment_rat"
   ]
  },
  {
   "cell_type": "code",
   "execution_count": 31,
   "id": "f906dd64",
   "metadata": {
    "ExecuteTime": {
     "end_time": "2021-09-15T22:43:53.390197Z",
     "start_time": "2021-09-15T22:43:53.358161Z"
    }
   },
   "outputs": [],
   "source": [
    "y = y.map({-1:0,0:1,1:2})\n",
    "yr = y.map({-1:0,0:1,1:2})"
   ]
  },
  {
   "cell_type": "code",
   "execution_count": 32,
   "id": "145c4fae",
   "metadata": {
    "ExecuteTime": {
     "end_time": "2021-09-15T22:43:53.422168Z",
     "start_time": "2021-09-15T22:43:53.390197Z"
    }
   },
   "outputs": [],
   "source": [
    "X_train, X_test, y_train, y_test = train_test_split(X,y, test_size = 0.2, random_state = 77)"
   ]
  },
  {
   "cell_type": "code",
   "execution_count": 33,
   "id": "56b8420c",
   "metadata": {
    "ExecuteTime": {
     "end_time": "2021-09-15T22:43:53.454153Z",
     "start_time": "2021-09-15T22:43:53.422168Z"
    }
   },
   "outputs": [
    {
     "name": "stdout",
     "output_type": "stream",
     "text": [
      "Total training samples: 24000\n",
      "Total test samples: 6000\n",
      "Total samples: 30000\n"
     ]
    }
   ],
   "source": [
    "print(f\"Total training samples: {len(X_train)}\")\n",
    "print(f\"Total test samples: {len(X_test)}\")\n",
    "print(f\"Total samples: {len(X_train) + len(X_test)}\")"
   ]
  },
  {
   "cell_type": "markdown",
   "id": "37d01361",
   "metadata": {},
   "source": [
    "### Data Sentimen Score"
   ]
  },
  {
   "cell_type": "code",
   "execution_count": 81,
   "id": "d9039690",
   "metadata": {
    "ExecuteTime": {
     "end_time": "2021-09-15T22:57:02.402059Z",
     "start_time": "2021-09-15T22:57:02.354048Z"
    }
   },
   "outputs": [
    {
     "name": "stdout",
     "output_type": "stream",
     "text": [
      "Target: 1 (Positif)\n",
      "Text:\n",
      "barangnya oke lumayan dalemnya tp aga sempit ya jd gitu nyaman dipake tp overall lumayan\n",
      "\n",
      "---\n",
      "\n",
      "Target: 1 (Positif)\n",
      "Text:\n",
      "sesuai harga not bad\n",
      "\n",
      "---\n",
      "\n",
      "Target: 1 (Positif)\n",
      "Text:\n",
      "pengiriman cepat sesuai pesanan terima kasih\n",
      "\n",
      "---\n",
      "\n",
      "Target: 1 (Positif)\n",
      "Text:\n",
      "barang diterima kondisi bagus\n",
      "\n",
      "---\n",
      "\n",
      "Target: 0 (Netral)\n",
      "Text:\n",
      "terimakasihhhh \n",
      "\n",
      "---\n",
      "\n"
     ]
    }
   ],
   "source": [
    "# Ambil data random\n",
    "import random\n",
    "random_index = random.randint(0, len(sample)-5)\n",
    "for row in sample[[\"text_stpw\", \"sentiment\"]][random_index:random_index+5].itertuples():\n",
    "  _, text, target = row\n",
    "  if target == 0:\n",
    "    print(f\"Target: {target} (Netral)\")\n",
    "  elif target == 1:\n",
    "    print(f\"Target: {target} (Positif)\")\n",
    "  else:\n",
    "    print(f\"Target: {target} (Negatif)\")\n",
    "  print(f\"Text:\\n{text}\\n\")\n",
    "  print(\"---\\n\")"
   ]
  },
  {
   "cell_type": "markdown",
   "id": "bc5148ee",
   "metadata": {},
   "source": [
    "### Data Sentimen Rating"
   ]
  },
  {
   "cell_type": "code",
   "execution_count": 82,
   "id": "94832ab0",
   "metadata": {
    "ExecuteTime": {
     "end_time": "2021-09-15T22:57:17.157926Z",
     "start_time": "2021-09-15T22:57:17.117921Z"
    }
   },
   "outputs": [
    {
     "name": "stdout",
     "output_type": "stream",
     "text": [
      "Target: 1 (Positif)\n",
      "Text:\n",
      "pengiriman cepat barang sesuai semoga awet penggunaannya\n",
      "\n",
      "---\n",
      "\n",
      "Target: 1 (Positif)\n",
      "Text:\n",
      "barang dah sampe blum buka mudah2an bagus \n",
      "\n",
      "---\n",
      "\n",
      "Target: 1 (Positif)\n",
      "Text:\n",
      "barangnya sdh sdh sy terima kwalitas sesuai harapan terima kasih\n",
      "\n",
      "---\n",
      "\n",
      "Target: 1 (Positif)\n",
      "Text:\n",
      "penjual super laris terusss gan \n",
      "\n",
      "---\n",
      "\n",
      "Target: 1 (Positif)\n",
      "Text:\n",
      "okeeeeeeeeeeeeeeeeeeeee\n",
      "\n",
      "---\n",
      "\n"
     ]
    }
   ],
   "source": [
    "# Ambil data random\n",
    "import random\n",
    "random_index = random.randint(0, len(sample)-5)\n",
    "for row in sample[[\"text_stpw\", \"sentiment_rat\"]][random_index:random_index+5].itertuples():\n",
    "  _, text, target = row\n",
    "  if target == 0:\n",
    "    print(f\"Target: {target} (Netral)\")\n",
    "  elif target == 1:\n",
    "    print(f\"Target: {target} (Positif)\")\n",
    "  else:\n",
    "    print(f\"Target: {target} (Negatif)\")\n",
    "  print(f\"Text:\\n{text}\\n\")\n",
    "  print(\"---\\n\")"
   ]
  },
  {
   "cell_type": "code",
   "execution_count": 36,
   "id": "0f6f8e39",
   "metadata": {
    "ExecuteTime": {
     "end_time": "2021-09-15T22:44:05.272681Z",
     "start_time": "2021-09-15T22:43:53.534196Z"
    }
   },
   "outputs": [],
   "source": [
    "# siapkan target\n",
    "from tensorflow.keras.utils import to_categorical\n",
    "\n",
    "def prepare_targets(y_train, y_test):\n",
    "\ty_train_enc = to_categorical(y_train)\n",
    "\ty_test_enc = to_categorical(y_test)\n",
    "\treturn y_train_enc, y_test_enc\n",
    "\n",
    "y_train, y_test = prepare_targets(y_train, y_test)"
   ]
  },
  {
   "cell_type": "code",
   "execution_count": 37,
   "id": "0edd6e25",
   "metadata": {
    "ExecuteTime": {
     "end_time": "2021-09-15T22:44:05.302170Z",
     "start_time": "2021-09-15T22:44:05.272681Z"
    }
   },
   "outputs": [
    {
     "data": {
      "text/plain": [
       "array([[0., 0., 1.],\n",
       "       [0., 0., 1.],\n",
       "       [0., 0., 1.],\n",
       "       ...,\n",
       "       [0., 0., 1.],\n",
       "       [0., 0., 1.],\n",
       "       [0., 1., 0.]], dtype=float32)"
      ]
     },
     "execution_count": 37,
     "metadata": {},
     "output_type": "execute_result"
    }
   ],
   "source": [
    "y_train"
   ]
  },
  {
   "cell_type": "code",
   "execution_count": 38,
   "id": "bb06373d",
   "metadata": {
    "ExecuteTime": {
     "end_time": "2021-09-15T22:44:05.334169Z",
     "start_time": "2021-09-15T22:44:05.310168Z"
    }
   },
   "outputs": [],
   "source": [
    "# split train-val\n",
    "train_sentences, val_sentences, train_labels, val_labels = train_test_split(X_train.to_numpy(),\n",
    "                                                                            y_train,\n",
    "                                                                            test_size=0.2,\n",
    "                                                                            random_state=77)"
   ]
  },
  {
   "cell_type": "code",
   "execution_count": 39,
   "id": "9ad1a455",
   "metadata": {
    "ExecuteTime": {
     "end_time": "2021-09-15T22:44:05.366165Z",
     "start_time": "2021-09-15T22:44:05.342173Z"
    }
   },
   "outputs": [
    {
     "data": {
      "text/plain": [
       "(array(['mendengarkan radio earphone berfungsi coba pakai handsfree 3 pcs yg terdengar mohon kedepan nya teliti mengirim barangnya trims',\n",
       "        'keren sesuai gambar gak nyesel deh',\n",
       "        'barang bagus cocok laptopnya pengiriman cepat',\n",
       "        'pesanannya thx gan ',\n",
       "        'barang sesuai deskripsi kondisi packing rapi',\n",
       "        'kualitas barang bagusdan solid respon penjual cepat pengiriman cepat puas',\n",
       "        'mantapll lurrrrrrrrrrrrrrrrrrr', 'mantap dipakai top barangnya ',\n",
       "        'recommended banget serba cepat sesuai mantap',\n",
       "        'good produk good shipment good response '], dtype=object),\n",
       " array([[0., 0., 1.],\n",
       "        [0., 0., 1.],\n",
       "        [0., 0., 1.],\n",
       "        [0., 1., 0.],\n",
       "        [0., 0., 1.],\n",
       "        [0., 0., 1.],\n",
       "        [0., 1., 0.],\n",
       "        [0., 0., 1.],\n",
       "        [0., 0., 1.],\n",
       "        [0., 1., 0.]], dtype=float32))"
      ]
     },
     "execution_count": 39,
     "metadata": {},
     "output_type": "execute_result"
    }
   ],
   "source": [
    "train_sentences[:10], train_labels[:10]"
   ]
  },
  {
   "cell_type": "markdown",
   "id": "015a787f",
   "metadata": {},
   "source": [
    "### Tokenisasi"
   ]
  },
  {
   "cell_type": "code",
   "execution_count": 40,
   "id": "ce3297fe",
   "metadata": {
    "ExecuteTime": {
     "end_time": "2021-09-15T22:44:05.390171Z",
     "start_time": "2021-09-15T22:44:05.366165Z"
    }
   },
   "outputs": [],
   "source": [
    "import tensorflow as tf\n",
    "from tensorflow.keras.layers.experimental.preprocessing import TextVectorization"
   ]
  },
  {
   "cell_type": "code",
   "execution_count": 41,
   "id": "4679f37a",
   "metadata": {
    "ExecuteTime": {
     "end_time": "2021-09-15T22:44:05.438167Z",
     "start_time": "2021-09-15T22:44:05.390171Z"
    }
   },
   "outputs": [
    {
     "data": {
      "text/plain": [
       "6"
      ]
     },
     "execution_count": 41,
     "metadata": {},
     "output_type": "execute_result"
    }
   ],
   "source": [
    "# Hitung rata-rata token yang dibentuk dalam satu reviews\n",
    "round(sum([len(i.split()) for i in train_sentences])/len(train_sentences))"
   ]
  },
  {
   "cell_type": "code",
   "execution_count": 42,
   "id": "f51a4ce2",
   "metadata": {
    "ExecuteTime": {
     "end_time": "2021-09-15T22:44:06.010755Z",
     "start_time": "2021-09-15T22:44:05.438167Z"
    }
   },
   "outputs": [],
   "source": [
    "# Setup text vectorization with custom variables\n",
    "max_vocab_length = 10000\n",
    "max_length = 6 # rata-rata token per reviews\n",
    "\n",
    "# setup text vectorization dengan parameter default\n",
    "text_vectorizer = TextVectorization(max_tokens=max_vocab_length, # berapa banyak vocab yang ingin dibentuk\n",
    "                                    standardize=\"lower_and_strip_punctuation\", # cara memproses teks\n",
    "                                    split=\"whitespace\", # delimiter pemisah token\n",
    "                                    ngrams=None, # membuat berapa grup kata token (bisa 2 pasang / bigram, 3 pasang / trigram, dst.)\n",
    "                                    output_mode=\"int\", # token di map ke tipe data apa (integer seperti yang dicontohkan di lecture)\n",
    "                                    output_sequence_length=max_length) # berapa panjang output token yg diinginkan"
   ]
  },
  {
   "cell_type": "code",
   "execution_count": 43,
   "id": "2140c4d1",
   "metadata": {
    "ExecuteTime": {
     "end_time": "2021-09-15T22:44:07.170667Z",
     "start_time": "2021-09-15T22:44:06.019429Z"
    }
   },
   "outputs": [],
   "source": [
    "# fit data train ke text_vectorizer\n",
    "text_vectorizer.adapt(train_sentences)"
   ]
  },
  {
   "cell_type": "code",
   "execution_count": 44,
   "id": "3292ec1d",
   "metadata": {
    "ExecuteTime": {
     "end_time": "2021-09-15T22:44:07.264115Z",
     "start_time": "2021-09-15T22:44:07.170667Z"
    }
   },
   "outputs": [
    {
     "data": {
      "text/plain": [
       "<tf.Tensor: shape=(1, 6), dtype=int64, numpy=array([[   2,    3,   31,    1, 3724,    0]], dtype=int64)>"
      ]
     },
     "execution_count": 44,
     "metadata": {},
     "output_type": "execute_result"
    }
   ],
   "source": [
    "# Buat contoh reviews untuk membuktikan tokenizer bekerja\n",
    "sample_sentence = \"barang sesuai gambar tidak bohong\"\n",
    "text_vectorizer([sample_sentence])"
   ]
  },
  {
   "cell_type": "code",
   "execution_count": 45,
   "id": "bf63d8f9",
   "metadata": {
    "ExecuteTime": {
     "end_time": "2021-09-15T22:44:07.296128Z",
     "start_time": "2021-09-15T22:44:07.264115Z"
    }
   },
   "outputs": [
    {
     "name": "stdout",
     "output_type": "stream",
     "text": [
      "Teks Asli:\n",
      "makasi yaaa barang bagus       \n",
      "\n",
      "Versi Vektorisasi:\n"
     ]
    },
    {
     "data": {
      "text/plain": [
       "<tf.Tensor: shape=(1, 6), dtype=int64, numpy=array([[208, 248,   2,   5,   0,   0]], dtype=int64)>"
      ]
     },
     "execution_count": 45,
     "metadata": {},
     "output_type": "execute_result"
    }
   ],
   "source": [
    "# Ambil data random dari training set\n",
    "random_sentence = random.choice(train_sentences)\n",
    "print(f\"Teks Asli:\\n{random_sentence}\\\n",
    "      \\n\\nVersi Vektorisasi:\")\n",
    "text_vectorizer([random_sentence])"
   ]
  },
  {
   "cell_type": "code",
   "execution_count": 46,
   "id": "0d430cc7",
   "metadata": {
    "ExecuteTime": {
     "end_time": "2021-09-15T22:44:07.376117Z",
     "start_time": "2021-09-15T22:44:07.304122Z"
    }
   },
   "outputs": [
    {
     "name": "stdout",
     "output_type": "stream",
     "text": [
      "Number of words in vocab: 9515\n",
      "Top 5 most common words: ['', '[UNK]', 'barang', 'sesuai', 'cepat']\n",
      "Bottom 5 least common words: ['071', '07', '01', '0000000000000000000', '00']\n"
     ]
    }
   ],
   "source": [
    "# Ambil kata unik dari vocabulary\n",
    "words_in_vocab = text_vectorizer.get_vocabulary()\n",
    "top_5_words = words_in_vocab[:5] # token terbanyak\n",
    "bottom_5_words = words_in_vocab[-5:] # token tersedikit\n",
    "print(f\"Number of words in vocab: {len(words_in_vocab)}\")\n",
    "print(f\"Top 5 most common words: {top_5_words}\") \n",
    "print(f\"Bottom 5 least common words: {bottom_5_words}\")"
   ]
  },
  {
   "cell_type": "markdown",
   "id": "4b688b0a",
   "metadata": {},
   "source": [
    "### Create Embedding Layer"
   ]
  },
  {
   "cell_type": "code",
   "execution_count": 47,
   "id": "498e7f72",
   "metadata": {
    "ExecuteTime": {
     "end_time": "2021-09-15T22:44:07.408119Z",
     "start_time": "2021-09-15T22:44:07.376117Z"
    }
   },
   "outputs": [
    {
     "data": {
      "text/plain": [
       "<keras.layers.embeddings.Embedding at 0x21f1ad4c820>"
      ]
     },
     "execution_count": 47,
     "metadata": {},
     "output_type": "execute_result"
    }
   ],
   "source": [
    "from tensorflow.keras import layers\n",
    "\n",
    "embedding = layers.Embedding(input_dim=max_vocab_length,\n",
    "                             output_dim=128,\n",
    "                             embeddings_initializer=\"uniform\",\n",
    "                             input_length=max_length)\n",
    "\n",
    "embedding"
   ]
  },
  {
   "cell_type": "code",
   "execution_count": 48,
   "id": "a7ba687c",
   "metadata": {
    "ExecuteTime": {
     "end_time": "2021-09-15T22:44:07.496121Z",
     "start_time": "2021-09-15T22:44:07.408119Z"
    },
    "scrolled": true
   },
   "outputs": [
    {
     "name": "stdout",
     "output_type": "stream",
     "text": [
      "Teks Asli:\n",
      "sampe blm coba bagus      \n",
      "\n",
      "Versi Embedded:\n"
     ]
    },
    {
     "data": {
      "text/plain": [
       "<tf.Tensor: shape=(1, 6, 128), dtype=float32, numpy=\n",
       "array([[[ 4.60473783e-02, -2.65732650e-02,  2.52107270e-02,\n",
       "         -5.85857779e-03, -7.14338943e-03,  2.52375491e-02,\n",
       "         -2.97336709e-02, -4.89540212e-02, -1.02188215e-02,\n",
       "          3.86940576e-02, -1.40786394e-02,  1.15494244e-02,\n",
       "         -4.78431955e-02, -1.89512260e-02,  4.34118994e-02,\n",
       "         -2.67542955e-02,  1.07717514e-02, -3.66551504e-02,\n",
       "          3.17252539e-02,  2.99861766e-02, -1.42570511e-02,\n",
       "         -3.08372732e-02,  3.33931334e-02,  4.99017946e-02,\n",
       "         -2.38336567e-02, -1.66109093e-02,  4.98288758e-02,\n",
       "          2.84326784e-02, -3.90375033e-02, -2.52614021e-02,\n",
       "         -2.61883624e-02,  1.64234675e-02, -3.58424187e-02,\n",
       "         -5.90406731e-03,  4.36228849e-02,  2.95798294e-02,\n",
       "         -4.47201245e-02, -1.58341751e-02, -1.43998377e-02,\n",
       "          1.63705274e-03, -3.70919704e-04, -2.48324033e-02,\n",
       "          3.27630378e-02,  4.77093495e-02, -4.41824570e-02,\n",
       "          4.34259064e-02, -4.45608981e-02, -2.22205874e-02,\n",
       "          1.20802149e-02, -2.70951912e-03,  7.49118626e-05,\n",
       "          3.66888195e-03, -6.05918467e-04,  3.82748134e-02,\n",
       "         -3.52316387e-02, -1.45843625e-02, -2.70106681e-02,\n",
       "          1.33927502e-02, -4.91586439e-02,  2.93281190e-02,\n",
       "         -1.86028481e-02, -2.57154834e-02,  2.12437548e-02,\n",
       "         -1.78431645e-02,  4.57241796e-02,  3.12723964e-03,\n",
       "          3.94042172e-02, -1.56093948e-02, -2.40217447e-02,\n",
       "         -4.52235937e-02,  4.96063381e-03, -4.90703471e-02,\n",
       "         -1.15644932e-02,  4.34803627e-02, -4.98705395e-02,\n",
       "         -4.81254235e-02, -4.85380292e-02,  2.07942724e-03,\n",
       "          8.54700804e-03,  3.71248834e-02,  1.37365982e-03,\n",
       "         -1.22757331e-02,  6.60121441e-03,  1.25679038e-02,\n",
       "         -1.10584982e-02, -4.10691649e-03, -2.20338348e-02,\n",
       "         -3.50934044e-02, -5.22332266e-03, -4.43165898e-02,\n",
       "         -4.34841774e-02, -4.56760786e-02, -2.31720135e-03,\n",
       "          4.94168065e-02, -2.95046698e-02, -2.89302822e-02,\n",
       "          1.29183419e-02, -3.49433422e-02,  2.97126658e-02,\n",
       "         -2.93715354e-02, -4.54104319e-02, -3.75781655e-02,\n",
       "         -8.84959847e-03,  4.80083376e-03,  4.67565544e-02,\n",
       "          4.69677486e-02, -3.89177799e-02, -4.03194204e-02,\n",
       "         -3.24408635e-02, -1.75056942e-02,  4.34534624e-03,\n",
       "         -4.28382307e-03, -2.10480820e-02,  1.48282312e-02,\n",
       "          4.36639227e-02,  1.76101960e-02, -2.21916288e-03,\n",
       "         -1.80885419e-02,  1.45573504e-02,  3.84197384e-03,\n",
       "         -3.85463238e-04,  1.02264807e-03,  3.95285971e-02,\n",
       "         -3.91798504e-02,  3.89036573e-02,  1.29826777e-02,\n",
       "          3.13577801e-03,  4.98928688e-02],\n",
       "        [-1.54846311e-02,  3.34107876e-03, -2.79984623e-03,\n",
       "          4.11521643e-04,  4.28839810e-02,  2.74455436e-02,\n",
       "          4.83820550e-02,  1.68672837e-02, -1.73421390e-02,\n",
       "          3.92033197e-02, -2.81846877e-02, -3.80839221e-02,\n",
       "          6.64281845e-03,  1.13180168e-02,  4.78185154e-02,\n",
       "          4.47859503e-02,  1.36314370e-02,  3.15056331e-02,\n",
       "          4.93082292e-02,  3.49171646e-02, -4.51874137e-02,\n",
       "          4.78559770e-02, -2.16323026e-02,  3.52264307e-02,\n",
       "         -2.43174564e-02, -6.89936802e-03, -3.89799476e-02,\n",
       "         -2.29255445e-02,  8.45295191e-03,  6.31362200e-03,\n",
       "         -1.75059214e-02,  2.10663788e-02,  2.00978033e-02,\n",
       "         -3.83903272e-02, -4.88032363e-02,  7.02830404e-03,\n",
       "         -5.25828451e-03,  1.14203319e-02, -2.91304830e-02,\n",
       "         -4.90855575e-02,  3.31342332e-02, -2.44432688e-03,\n",
       "         -3.42923887e-02, -3.24604996e-02, -2.87055261e-02,\n",
       "         -3.21076140e-02, -4.32999395e-02, -6.42559677e-03,\n",
       "         -3.18104029e-03,  4.87841703e-02, -2.39334349e-02,\n",
       "          3.72863077e-02, -2.27149725e-02, -1.77717321e-02,\n",
       "         -3.72557268e-02, -2.66789924e-02, -5.04206493e-03,\n",
       "          3.60222124e-02, -1.12791173e-02, -2.46191509e-02,\n",
       "          1.98273733e-03,  1.51647590e-02, -1.67882554e-02,\n",
       "         -1.73515566e-02,  3.07286121e-02,  1.83666982e-02,\n",
       "          3.30024399e-02,  2.53946818e-02,  3.53760645e-03,\n",
       "          3.48371305e-02, -2.11978443e-02, -2.87394281e-02,\n",
       "          1.97611488e-02, -7.46630505e-03, -2.63732914e-02,\n",
       "          3.54332663e-02,  2.35729292e-03, -3.27125788e-02,\n",
       "          1.07919797e-02, -3.39390785e-02,  3.47260348e-02,\n",
       "         -2.48039495e-02,  3.79038975e-03, -3.47831473e-02,\n",
       "          2.60571279e-02,  3.76666524e-02, -3.05482745e-02,\n",
       "          1.69301070e-02, -1.69323198e-02,  1.09778643e-02,\n",
       "          6.77436590e-03, -4.40019257e-02,  1.00393407e-02,\n",
       "          6.73495233e-04, -4.91457842e-02, -5.30201197e-03,\n",
       "          2.01303400e-02, -1.44947320e-04,  1.54952519e-02,\n",
       "         -1.73394568e-02,  3.53922956e-02, -1.20464079e-02,\n",
       "          3.63597609e-02, -1.23278387e-02, -3.39156277e-02,\n",
       "         -6.43154234e-03, -1.31609216e-02,  3.46668623e-02,\n",
       "         -3.26208249e-02,  4.87543009e-02,  4.99805249e-02,\n",
       "          5.56431711e-04, -1.26880519e-02,  9.62169096e-03,\n",
       "          3.74782346e-02,  2.91166790e-02,  2.28202231e-02,\n",
       "         -4.33498286e-02, -1.36483684e-02, -4.84934822e-02,\n",
       "         -4.10582647e-02,  5.84635884e-03,  4.26275991e-02,\n",
       "          1.82290338e-02,  1.36995576e-02,  2.68763341e-02,\n",
       "          2.34711505e-02,  3.94517072e-02],\n",
       "        [-1.37495883e-02, -3.79248038e-02, -1.13035366e-03,\n",
       "          1.57127641e-02, -2.99274456e-02,  4.20825742e-02,\n",
       "          1.44585408e-02, -1.34324431e-02,  9.46224853e-03,\n",
       "         -2.66620871e-02,  1.92160495e-02,  1.71423070e-02,\n",
       "          4.53054346e-02, -3.38812359e-02,  4.50750329e-02,\n",
       "          3.09873857e-02,  3.27250697e-02, -1.60016119e-04,\n",
       "          1.27021931e-02, -4.89832051e-02, -3.97298709e-02,\n",
       "         -4.58256602e-02, -2.90502440e-02, -2.60984432e-02,\n",
       "         -1.58097968e-02, -1.21698491e-02,  4.94131334e-02,\n",
       "          6.29227236e-03,  2.51102559e-02,  2.71615125e-02,\n",
       "         -1.30130537e-02, -1.23293400e-02,  1.55522861e-02,\n",
       "         -4.67983373e-02, -3.69905606e-02,  4.63843830e-02,\n",
       "          1.80127285e-02,  9.76942852e-03, -4.79661711e-02,\n",
       "          2.62308009e-02, -4.94645946e-02, -9.67723131e-03,\n",
       "         -2.21955664e-02,  4.14032452e-02,  3.92080210e-02,\n",
       "          4.08972539e-02,  1.90482773e-02, -4.93324921e-03,\n",
       "         -7.08097219e-03,  1.80060603e-02,  1.36222877e-02,\n",
       "          2.98687257e-02, -8.71944427e-03, -2.81379819e-02,\n",
       "         -4.38259616e-02, -6.43301010e-03, -1.58823133e-02,\n",
       "         -1.37291104e-03, -7.47656822e-03, -1.85559019e-02,\n",
       "         -3.80060896e-02,  9.86627489e-03, -4.29723151e-02,\n",
       "         -2.71443259e-02, -8.99412483e-03, -4.76774238e-02,\n",
       "         -3.74339335e-02,  1.49503015e-02, -1.08041614e-03,\n",
       "          2.47338153e-02, -4.62607853e-02,  1.34592094e-02,\n",
       "          3.93252112e-02, -3.81165743e-02, -4.48339842e-02,\n",
       "         -1.16571561e-02,  2.72062309e-02,  2.02629454e-02,\n",
       "          2.01232322e-02, -7.39114359e-03,  2.25138776e-02,\n",
       "          2.21407413e-03, -1.43378973e-03, -1.77675113e-02,\n",
       "         -3.25482264e-02,  1.33736469e-02,  3.45310606e-02,\n",
       "         -1.38810985e-02, -4.77570891e-02, -3.70581634e-02,\n",
       "          3.73380668e-02, -2.96330210e-02,  2.52936743e-02,\n",
       "         -3.32810171e-02,  4.69827391e-02, -3.49862948e-02,\n",
       "          1.36140324e-02, -1.28296390e-02,  5.82329184e-03,\n",
       "         -4.37044501e-02, -3.47740762e-02, -3.47057357e-02,\n",
       "          3.82578708e-02, -1.37707107e-02, -1.53472200e-02,\n",
       "         -4.19357643e-02, -8.93852860e-03, -1.48239620e-02,\n",
       "         -4.97874022e-02,  4.83931787e-02,  8.02338123e-04,\n",
       "         -2.12629195e-02, -2.92830542e-03, -2.13348027e-02,\n",
       "         -4.46206704e-02, -7.25734234e-03,  1.95171572e-02,\n",
       "          2.65433677e-02, -1.11706853e-02, -6.05671480e-03,\n",
       "         -2.59009600e-02, -1.36629343e-02, -1.96599364e-02,\n",
       "          2.14496367e-02,  2.70602815e-02, -1.20592490e-02,\n",
       "          1.94854252e-02,  2.08525993e-02],\n",
       "        [ 1.08892545e-02,  1.00648515e-02,  3.53737138e-02,\n",
       "          2.22759880e-02,  1.88641809e-02, -8.50856304e-04,\n",
       "          3.42925675e-02, -2.41117552e-03,  9.23323631e-03,\n",
       "         -4.20794114e-02,  1.84882544e-02,  1.12962015e-02,\n",
       "          8.49510357e-03,  4.38381322e-02,  3.96687277e-02,\n",
       "         -4.05581705e-02,  4.13144752e-03, -1.01970322e-02,\n",
       "          2.50379555e-02,  5.70770353e-03, -4.58315387e-02,\n",
       "          2.21497528e-02,  3.54841612e-02,  1.88941695e-02,\n",
       "         -7.68984482e-03, -4.24433239e-02, -1.49871223e-02,\n",
       "          1.03239529e-02, -1.92081463e-02,  4.56626453e-02,\n",
       "          3.60728391e-02, -2.34223530e-03, -4.53661568e-02,\n",
       "         -1.20281577e-02, -1.65545121e-02, -2.85693891e-02,\n",
       "          2.99440287e-02,  2.41561420e-02, -2.74641514e-02,\n",
       "         -2.63870601e-02, -4.12387773e-03,  3.30428146e-02,\n",
       "          3.55675928e-02,  3.93241160e-02, -4.67610732e-02,\n",
       "         -2.92075034e-02, -3.35419402e-02, -1.33781545e-02,\n",
       "          2.74315365e-02, -3.25431824e-02, -4.66875546e-02,\n",
       "         -4.81045619e-02,  1.86656788e-03,  1.82572939e-02,\n",
       "         -1.40392557e-02,  4.88051511e-02, -3.60241756e-02,\n",
       "         -3.84757034e-02,  4.22164537e-02, -1.12070814e-02,\n",
       "         -3.04507744e-02,  6.38733059e-03, -4.32824492e-02,\n",
       "          3.23902816e-04,  3.75561975e-02,  1.75400116e-02,\n",
       "         -1.30639076e-02,  3.22125666e-02, -3.31910737e-02,\n",
       "          4.46236171e-02,  2.39982866e-02,  2.46460550e-02,\n",
       "          2.03680433e-02, -1.80794001e-02, -6.79607317e-03,\n",
       "          1.31537057e-02,  4.27312367e-02,  9.44415480e-03,\n",
       "         -4.36151028e-02,  3.92460488e-02,  5.45741245e-03,\n",
       "         -2.52038594e-02,  8.99743289e-04,  4.18519489e-02,\n",
       "          3.81006487e-02,  9.01181623e-03, -2.21838802e-03,\n",
       "         -2.22167857e-02, -1.38718002e-02, -4.15749438e-02,\n",
       "          9.20164585e-03, -3.54014263e-02, -4.53231223e-02,\n",
       "          3.17615308e-02,  1.96927451e-02,  3.71518843e-02,\n",
       "         -3.36007252e-02, -2.83729564e-02, -2.22641360e-02,\n",
       "          4.03836258e-02, -4.55652475e-02,  1.83062814e-02,\n",
       "         -1.25712268e-02,  3.08955051e-02, -3.40958014e-02,\n",
       "         -4.89703529e-02, -1.09206326e-02,  7.98068941e-04,\n",
       "         -3.83038148e-02,  3.26205604e-02, -3.28992158e-02,\n",
       "         -2.62233019e-02, -8.07951763e-03,  1.84568018e-03,\n",
       "         -1.05417855e-02,  2.73891538e-03,  3.77059467e-02,\n",
       "          3.79031338e-02,  4.02163714e-04,  3.41465510e-02,\n",
       "          4.11597155e-02, -2.37443298e-03,  4.73262705e-02,\n",
       "          3.01440023e-02, -1.64701231e-02, -4.62198034e-02,\n",
       "         -9.10655409e-03, -4.24337760e-02],\n",
       "        [ 1.91630386e-02, -1.06119625e-02, -3.86538357e-03,\n",
       "         -1.73642524e-02,  4.90078591e-02, -2.58898865e-02,\n",
       "          1.46745332e-02,  2.81721093e-02, -4.23844941e-02,\n",
       "         -2.42879037e-02, -1.91262495e-02,  1.73837431e-02,\n",
       "         -4.30920981e-02,  2.84959413e-02,  3.68037559e-02,\n",
       "         -5.85297495e-03, -1.28491297e-02, -4.48608883e-02,\n",
       "         -4.97284196e-02,  4.43716384e-02, -3.20448652e-02,\n",
       "          2.00714357e-02,  4.41376008e-02, -1.85616836e-02,\n",
       "         -2.67142653e-02,  2.53515132e-02, -4.56471220e-02,\n",
       "          2.47497000e-02, -8.67650658e-03,  4.11625244e-02,\n",
       "         -6.48093224e-03, -2.18734033e-02,  3.98522280e-02,\n",
       "          2.88655646e-02, -3.16883102e-02,  4.35438268e-02,\n",
       "         -1.87653061e-02, -1.29493959e-02,  4.24784534e-02,\n",
       "         -4.66420166e-02,  4.14175279e-02,  3.41127552e-02,\n",
       "          1.49063803e-02, -4.49854024e-02, -1.68133378e-02,\n",
       "         -6.58433512e-03, -3.33078131e-02,  4.82491292e-02,\n",
       "          3.98575775e-02,  5.25808334e-03, -3.83555181e-02,\n",
       "         -1.91034209e-02, -2.88099647e-02, -2.22240090e-02,\n",
       "         -8.89278948e-04, -2.02740189e-02, -2.58656275e-02,\n",
       "         -1.11867413e-02, -3.39182019e-02,  3.87045257e-02,\n",
       "         -4.64542620e-02,  8.24360922e-03,  4.66284491e-02,\n",
       "         -4.86094467e-02,  3.13270837e-04, -6.78122044e-03,\n",
       "         -3.19456346e-02,  1.73205137e-03, -4.93292920e-02,\n",
       "         -4.44179773e-03,  2.42087878e-02, -3.57070193e-02,\n",
       "          2.91547813e-02,  1.48127712e-02, -2.36061569e-02,\n",
       "         -3.81797552e-02,  3.33205201e-02, -1.54206976e-02,\n",
       "         -4.34632786e-02, -4.92932796e-02, -4.93875518e-02,\n",
       "         -1.33345127e-02, -1.51094683e-02,  2.05937959e-02,\n",
       "         -3.29230577e-02, -1.93222649e-02,  4.82012294e-02,\n",
       "         -2.18509436e-02,  1.59609579e-02,  3.55410092e-02,\n",
       "         -3.08784377e-02, -2.48824432e-03, -6.74278662e-03,\n",
       "         -3.01430821e-02, -1.81071982e-02,  3.36297639e-02,\n",
       "          3.07797305e-02,  1.54250525e-02, -1.90858133e-02,\n",
       "         -3.93796712e-04, -3.99255753e-03, -1.99781060e-02,\n",
       "          8.63693655e-04, -1.71944723e-02,  2.48313658e-02,\n",
       "         -2.45810505e-02,  1.34515762e-03, -4.56386693e-02,\n",
       "          3.30889560e-02,  3.40204947e-02, -8.52348655e-03,\n",
       "          9.84350592e-03, -2.98093203e-02,  4.40772288e-02,\n",
       "          1.73817016e-02, -1.60669684e-02, -2.25057956e-02,\n",
       "          4.78908904e-02, -4.96021993e-02,  1.48181804e-02,\n",
       "          8.38823244e-03, -4.26100269e-02,  4.89686839e-02,\n",
       "          3.80504876e-04,  1.83236264e-02,  8.64357874e-03,\n",
       "         -4.45271842e-02,  2.48948820e-02],\n",
       "        [ 1.91630386e-02, -1.06119625e-02, -3.86538357e-03,\n",
       "         -1.73642524e-02,  4.90078591e-02, -2.58898865e-02,\n",
       "          1.46745332e-02,  2.81721093e-02, -4.23844941e-02,\n",
       "         -2.42879037e-02, -1.91262495e-02,  1.73837431e-02,\n",
       "         -4.30920981e-02,  2.84959413e-02,  3.68037559e-02,\n",
       "         -5.85297495e-03, -1.28491297e-02, -4.48608883e-02,\n",
       "         -4.97284196e-02,  4.43716384e-02, -3.20448652e-02,\n",
       "          2.00714357e-02,  4.41376008e-02, -1.85616836e-02,\n",
       "         -2.67142653e-02,  2.53515132e-02, -4.56471220e-02,\n",
       "          2.47497000e-02, -8.67650658e-03,  4.11625244e-02,\n",
       "         -6.48093224e-03, -2.18734033e-02,  3.98522280e-02,\n",
       "          2.88655646e-02, -3.16883102e-02,  4.35438268e-02,\n",
       "         -1.87653061e-02, -1.29493959e-02,  4.24784534e-02,\n",
       "         -4.66420166e-02,  4.14175279e-02,  3.41127552e-02,\n",
       "          1.49063803e-02, -4.49854024e-02, -1.68133378e-02,\n",
       "         -6.58433512e-03, -3.33078131e-02,  4.82491292e-02,\n",
       "          3.98575775e-02,  5.25808334e-03, -3.83555181e-02,\n",
       "         -1.91034209e-02, -2.88099647e-02, -2.22240090e-02,\n",
       "         -8.89278948e-04, -2.02740189e-02, -2.58656275e-02,\n",
       "         -1.11867413e-02, -3.39182019e-02,  3.87045257e-02,\n",
       "         -4.64542620e-02,  8.24360922e-03,  4.66284491e-02,\n",
       "         -4.86094467e-02,  3.13270837e-04, -6.78122044e-03,\n",
       "         -3.19456346e-02,  1.73205137e-03, -4.93292920e-02,\n",
       "         -4.44179773e-03,  2.42087878e-02, -3.57070193e-02,\n",
       "          2.91547813e-02,  1.48127712e-02, -2.36061569e-02,\n",
       "         -3.81797552e-02,  3.33205201e-02, -1.54206976e-02,\n",
       "         -4.34632786e-02, -4.92932796e-02, -4.93875518e-02,\n",
       "         -1.33345127e-02, -1.51094683e-02,  2.05937959e-02,\n",
       "         -3.29230577e-02, -1.93222649e-02,  4.82012294e-02,\n",
       "         -2.18509436e-02,  1.59609579e-02,  3.55410092e-02,\n",
       "         -3.08784377e-02, -2.48824432e-03, -6.74278662e-03,\n",
       "         -3.01430821e-02, -1.81071982e-02,  3.36297639e-02,\n",
       "          3.07797305e-02,  1.54250525e-02, -1.90858133e-02,\n",
       "         -3.93796712e-04, -3.99255753e-03, -1.99781060e-02,\n",
       "          8.63693655e-04, -1.71944723e-02,  2.48313658e-02,\n",
       "         -2.45810505e-02,  1.34515762e-03, -4.56386693e-02,\n",
       "          3.30889560e-02,  3.40204947e-02, -8.52348655e-03,\n",
       "          9.84350592e-03, -2.98093203e-02,  4.40772288e-02,\n",
       "          1.73817016e-02, -1.60669684e-02, -2.25057956e-02,\n",
       "          4.78908904e-02, -4.96021993e-02,  1.48181804e-02,\n",
       "          8.38823244e-03, -4.26100269e-02,  4.89686839e-02,\n",
       "          3.80504876e-04,  1.83236264e-02,  8.64357874e-03,\n",
       "         -4.45271842e-02,  2.48948820e-02]]], dtype=float32)>"
      ]
     },
     "execution_count": 48,
     "metadata": {},
     "output_type": "execute_result"
    }
   ],
   "source": [
    "# Coba memasukan data ke layer embedding\n",
    "random_sentence = random.choice(train_sentences)\n",
    "print(f\"Teks Asli:\\n{random_sentence}\\\n",
    "      \\n\\nVersi Embedded:\")\n",
    "\n",
    "# Embed the random sentence (turn it into numerical representation)\n",
    "sample_embed = embedding(text_vectorizer([random_sentence]))\n",
    "sample_embed"
   ]
  },
  {
   "cell_type": "markdown",
   "id": "e05b2c93",
   "metadata": {},
   "source": [
    "## Pendefinisian Model"
   ]
  },
  {
   "cell_type": "markdown",
   "id": "23b638ff",
   "metadata": {},
   "source": [
    "Bagian ini berisi cell untuk mendefinisikan model sampai kompilasi model. Akan lebih bagus jika didahului dengan penjelasan mengapa memilih arsitektur atau jenis model tertentu, alasan memilih nilai hyperparameter, dan hal lain yang berkaitan."
   ]
  },
  {
   "cell_type": "markdown",
   "id": "52f0e48c",
   "metadata": {},
   "source": [
    "### 1.Model LSTM"
   ]
  },
  {
   "cell_type": "markdown",
   "id": "2ba7a143",
   "metadata": {},
   "source": [
    "### 2. Model GRU"
   ]
  },
  {
   "cell_type": "markdown",
   "id": "5f8d47d3",
   "metadata": {},
   "source": [
    "## Pelatihan Model"
   ]
  },
  {
   "cell_type": "markdown",
   "id": "3df3c330",
   "metadata": {},
   "source": [
    "Cell pada bagian ini hanya berisi code untuk melatih model dan output yang dihasilkan."
   ]
  },
  {
   "cell_type": "markdown",
   "id": "0c487a7d",
   "metadata": {},
   "source": [
    "### 1. Model LSTM"
   ]
  },
  {
   "cell_type": "code",
   "execution_count": 95,
   "id": "c4b59fef",
   "metadata": {
    "ExecuteTime": {
     "end_time": "2021-09-15T23:04:22.273253Z",
     "start_time": "2021-09-15T23:04:22.233254Z"
    }
   },
   "outputs": [],
   "source": [
    "import tensorflow as tf\n",
    "\n",
    "tf.keras.backend.clear_session()"
   ]
  },
  {
   "cell_type": "code",
   "execution_count": 96,
   "id": "35fae092",
   "metadata": {
    "ExecuteTime": {
     "end_time": "2021-09-15T23:04:23.490243Z",
     "start_time": "2021-09-15T23:04:23.466251Z"
    }
   },
   "outputs": [],
   "source": [
    "from tensorflow.keras.callbacks import EarlyStopping\n",
    "earlystop = EarlyStopping(monitor = 'val_loss', #Nilai yang dimonitor\n",
    "                          mode='min',\n",
    "                          min_delta = 0, #Nilai mutlak dan merupakan perubahan minimum yang diperlukan sebelum kita berhenti\n",
    "                          patience = 15, #Nomor epochs yang ditunggu sebelum berhenti \n",
    "                          verbose = 1,\n",
    "                          restore_best_weights = True) #Ketika berhenti di weights yang terbaik"
   ]
  },
  {
   "cell_type": "code",
   "execution_count": 97,
   "id": "8b64cce1",
   "metadata": {
    "ExecuteTime": {
     "end_time": "2021-09-15T23:04:25.707412Z",
     "start_time": "2021-09-15T23:04:25.279765Z"
    }
   },
   "outputs": [
    {
     "name": "stdout",
     "output_type": "stream",
     "text": [
      "(None, 64)\n"
     ]
    }
   ],
   "source": [
    "# Bua Model LSTM\n",
    "from tensorflow.keras import layers\n",
    "from keras.layers import Dense, Dropout\n",
    "inputs = layers.Input(shape=(1,), dtype=\"string\")\n",
    "x = text_vectorizer(inputs)\n",
    "x = embedding(x)\n",
    "x = layers.LSTM(64)(x) \n",
    "x = layers.Dropout(0.5)(x)\n",
    "print(x.shape)\n",
    "outputs = layers.Dense(3, activation=\"softmax\")(x)\n",
    "model_1 = tf.keras.Model(inputs, outputs, name=\"model_1_LSTM\")"
   ]
  },
  {
   "cell_type": "code",
   "execution_count": 98,
   "id": "35267542",
   "metadata": {
    "ExecuteTime": {
     "end_time": "2021-09-15T23:04:26.548260Z",
     "start_time": "2021-09-15T23:04:26.524254Z"
    }
   },
   "outputs": [
    {
     "name": "stdout",
     "output_type": "stream",
     "text": [
      "Model: \"model_1_LSTM\"\n",
      "_________________________________________________________________\n",
      "Layer (type)                 Output Shape              Param #   \n",
      "=================================================================\n",
      "input_1 (InputLayer)         [(None, 1)]               0         \n",
      "_________________________________________________________________\n",
      "text_vectorization (TextVect (None, 6)                 0         \n",
      "_________________________________________________________________\n",
      "embedding (Embedding)        (None, 6, 128)            1280000   \n",
      "_________________________________________________________________\n",
      "lstm (LSTM)                  (None, 64)                49408     \n",
      "_________________________________________________________________\n",
      "dropout (Dropout)            (None, 64)                0         \n",
      "_________________________________________________________________\n",
      "dense (Dense)                (None, 3)                 195       \n",
      "=================================================================\n",
      "Total params: 1,329,603\n",
      "Trainable params: 1,329,603\n",
      "Non-trainable params: 0\n",
      "_________________________________________________________________\n"
     ]
    }
   ],
   "source": [
    "model_1.summary()"
   ]
  },
  {
   "cell_type": "code",
   "execution_count": 99,
   "id": "f6cf1a46",
   "metadata": {
    "ExecuteTime": {
     "end_time": "2021-09-15T23:04:32.234370Z",
     "start_time": "2021-09-15T23:04:32.202371Z"
    }
   },
   "outputs": [],
   "source": [
    "# Compile model\n",
    "model_1.compile(loss=\"categorical_crossentropy\",\n",
    "                optimizer=tf.keras.optimizers.Adam(),\n",
    "                metrics=[\"accuracy\"])"
   ]
  },
  {
   "cell_type": "code",
   "execution_count": 100,
   "id": "5e8d53a0",
   "metadata": {
    "ExecuteTime": {
     "end_time": "2021-09-15T23:08:20.558626Z",
     "start_time": "2021-09-15T23:04:33.548952Z"
    }
   },
   "outputs": [
    {
     "name": "stdout",
     "output_type": "stream",
     "text": [
      "Epoch 1/50\n",
      "600/600 - 19s - loss: 0.1135 - accuracy: 0.9595 - val_loss: 0.2037 - val_accuracy: 0.9340\n",
      "Epoch 2/50\n",
      "600/600 - 13s - loss: 0.0575 - accuracy: 0.9810 - val_loss: 0.1983 - val_accuracy: 0.9402\n",
      "Epoch 3/50\n",
      "600/600 - 13s - loss: 0.0434 - accuracy: 0.9856 - val_loss: 0.2516 - val_accuracy: 0.9379\n",
      "Epoch 4/50\n",
      "600/600 - 12s - loss: 0.0354 - accuracy: 0.9886 - val_loss: 0.2943 - val_accuracy: 0.9365\n",
      "Epoch 5/50\n",
      "600/600 - 13s - loss: 0.0291 - accuracy: 0.9901 - val_loss: 0.3274 - val_accuracy: 0.9365\n",
      "Epoch 6/50\n",
      "600/600 - 13s - loss: 0.0255 - accuracy: 0.9919 - val_loss: 0.3114 - val_accuracy: 0.9377\n",
      "Epoch 7/50\n",
      "600/600 - 12s - loss: 0.0231 - accuracy: 0.9931 - val_loss: 0.4693 - val_accuracy: 0.9208\n",
      "Epoch 8/50\n",
      "600/600 - 12s - loss: 0.0216 - accuracy: 0.9936 - val_loss: 0.3723 - val_accuracy: 0.9352\n",
      "Epoch 9/50\n",
      "600/600 - 12s - loss: 0.0166 - accuracy: 0.9951 - val_loss: 0.3848 - val_accuracy: 0.9369\n",
      "Epoch 10/50\n",
      "600/600 - 13s - loss: 0.0185 - accuracy: 0.9946 - val_loss: 0.4128 - val_accuracy: 0.9335\n",
      "Epoch 11/50\n",
      "600/600 - 13s - loss: 0.0170 - accuracy: 0.9947 - val_loss: 0.3804 - val_accuracy: 0.9360\n",
      "Epoch 12/50\n",
      "600/600 - 14s - loss: 0.0145 - accuracy: 0.9955 - val_loss: 0.4400 - val_accuracy: 0.9333\n",
      "Epoch 13/50\n",
      "600/600 - 13s - loss: 0.0128 - accuracy: 0.9962 - val_loss: 0.4175 - val_accuracy: 0.9344\n",
      "Epoch 14/50\n",
      "600/600 - 14s - loss: 0.0116 - accuracy: 0.9967 - val_loss: 0.4833 - val_accuracy: 0.9323\n",
      "Epoch 15/50\n",
      "600/600 - 14s - loss: 0.0115 - accuracy: 0.9968 - val_loss: 0.4346 - val_accuracy: 0.9317\n",
      "Epoch 16/50\n",
      "600/600 - 13s - loss: 0.0093 - accuracy: 0.9974 - val_loss: 0.4512 - val_accuracy: 0.9315\n",
      "Epoch 17/50\n",
      "600/600 - 13s - loss: 0.0075 - accuracy: 0.9979 - val_loss: 0.4616 - val_accuracy: 0.9298\n",
      "Restoring model weights from the end of the best epoch.\n",
      "Epoch 00017: early stopping\n"
     ]
    }
   ],
   "source": [
    "# Fit model\n",
    "model_1_history = model_1.fit(train_sentences,\n",
    "                              train_labels,\n",
    "                              epochs=50,\n",
    "                              validation_data=(val_sentences, val_labels), callbacks=[earlystop], verbose=2)"
   ]
  },
  {
   "cell_type": "markdown",
   "id": "ef33019f",
   "metadata": {},
   "source": [
    "### 2. Model GRU"
   ]
  },
  {
   "cell_type": "code",
   "execution_count": 64,
   "id": "c2d6aef0",
   "metadata": {
    "ExecuteTime": {
     "end_time": "2021-09-15T22:49:29.471618Z",
     "start_time": "2021-09-15T22:49:29.351615Z"
    }
   },
   "outputs": [],
   "source": [
    "import tensorflow as tf\n",
    "\n",
    "tf.keras.backend.clear_session()"
   ]
  },
  {
   "cell_type": "code",
   "execution_count": 65,
   "id": "fea4d7b4",
   "metadata": {
    "ExecuteTime": {
     "end_time": "2021-09-15T22:49:31.011443Z",
     "start_time": "2021-09-15T22:49:30.391869Z"
    }
   },
   "outputs": [],
   "source": [
    "from tensorflow.keras import layers\n",
    "inputs = layers.Input(shape=(1,), dtype=\"string\")\n",
    "x = text_vectorizer(inputs)\n",
    "x = embedding(x)\n",
    "x = layers.GRU(64)(x) \n",
    "x = layers.Dropout(0.5)(x)\n",
    "outputs = layers.Dense(3, activation=\"softmax\")(x)\n",
    "model_2 = tf.keras.Model(inputs, outputs, name=\"model_2_GRU\")"
   ]
  },
  {
   "cell_type": "code",
   "execution_count": 66,
   "id": "3f8d705a",
   "metadata": {
    "ExecuteTime": {
     "end_time": "2021-09-15T22:49:31.384916Z",
     "start_time": "2021-09-15T22:49:31.360876Z"
    }
   },
   "outputs": [],
   "source": [
    "# Compile GRU model\n",
    "model_2.compile(loss=\"categorical_crossentropy\",\n",
    "                optimizer=tf.keras.optimizers.Adam(),\n",
    "                metrics=[\"accuracy\"])"
   ]
  },
  {
   "cell_type": "code",
   "execution_count": 67,
   "id": "14d0e7b8",
   "metadata": {
    "ExecuteTime": {
     "end_time": "2021-09-15T22:49:32.985961Z",
     "start_time": "2021-09-15T22:49:32.953966Z"
    }
   },
   "outputs": [
    {
     "name": "stdout",
     "output_type": "stream",
     "text": [
      "Model: \"model_2_GRU\"\n",
      "_________________________________________________________________\n",
      "Layer (type)                 Output Shape              Param #   \n",
      "=================================================================\n",
      "input_1 (InputLayer)         [(None, 1)]               0         \n",
      "_________________________________________________________________\n",
      "text_vectorization (TextVect (None, 6)                 0         \n",
      "_________________________________________________________________\n",
      "embedding (Embedding)        (None, 6, 128)            1280000   \n",
      "_________________________________________________________________\n",
      "gru (GRU)                    (None, 64)                37248     \n",
      "_________________________________________________________________\n",
      "dropout (Dropout)            (None, 64)                0         \n",
      "_________________________________________________________________\n",
      "dense (Dense)                (None, 3)                 195       \n",
      "=================================================================\n",
      "Total params: 1,317,443\n",
      "Trainable params: 1,317,443\n",
      "Non-trainable params: 0\n",
      "_________________________________________________________________\n"
     ]
    }
   ],
   "source": [
    "model_2.summary()"
   ]
  },
  {
   "cell_type": "code",
   "execution_count": 68,
   "id": "45551645",
   "metadata": {
    "ExecuteTime": {
     "end_time": "2021-09-15T22:52:53.982062Z",
     "start_time": "2021-09-15T22:49:34.136559Z"
    }
   },
   "outputs": [
    {
     "name": "stdout",
     "output_type": "stream",
     "text": [
      "Epoch 1/50\n",
      "600/600 - 16s - loss: 0.1599 - accuracy: 0.9443 - val_loss: 0.1703 - val_accuracy: 0.9400\n",
      "Epoch 2/50\n",
      "600/600 - 12s - loss: 0.0774 - accuracy: 0.9730 - val_loss: 0.2122 - val_accuracy: 0.9333\n",
      "Epoch 3/50\n",
      "600/600 - 12s - loss: 0.0521 - accuracy: 0.9822 - val_loss: 0.2174 - val_accuracy: 0.9358\n",
      "Epoch 4/50\n",
      "600/600 - 11s - loss: 0.0429 - accuracy: 0.9860 - val_loss: 0.2251 - val_accuracy: 0.9373\n",
      "Epoch 5/50\n",
      "600/600 - 11s - loss: 0.0322 - accuracy: 0.9899 - val_loss: 0.2680 - val_accuracy: 0.9352\n",
      "Epoch 6/50\n",
      "600/600 - 13s - loss: 0.0282 - accuracy: 0.9908 - val_loss: 0.2692 - val_accuracy: 0.9344\n",
      "Epoch 7/50\n",
      "600/600 - 13s - loss: 0.0230 - accuracy: 0.9922 - val_loss: 0.3001 - val_accuracy: 0.9346\n",
      "Epoch 8/50\n",
      "600/600 - 12s - loss: 0.0223 - accuracy: 0.9936 - val_loss: 0.3013 - val_accuracy: 0.9342\n",
      "Epoch 9/50\n",
      "600/600 - 12s - loss: 0.0196 - accuracy: 0.9937 - val_loss: 0.2951 - val_accuracy: 0.9346\n",
      "Epoch 10/50\n",
      "600/600 - 12s - loss: 0.0162 - accuracy: 0.9945 - val_loss: 0.3735 - val_accuracy: 0.9312\n",
      "Epoch 11/50\n",
      "600/600 - 13s - loss: 0.0168 - accuracy: 0.9945 - val_loss: 0.3739 - val_accuracy: 0.9335\n",
      "Epoch 12/50\n",
      "600/600 - 13s - loss: 0.0147 - accuracy: 0.9956 - val_loss: 0.3963 - val_accuracy: 0.9296\n",
      "Epoch 13/50\n",
      "600/600 - 12s - loss: 0.0108 - accuracy: 0.9965 - val_loss: 0.4579 - val_accuracy: 0.9315\n",
      "Epoch 14/50\n",
      "600/600 - 11s - loss: 0.0136 - accuracy: 0.9958 - val_loss: 0.3825 - val_accuracy: 0.9312\n",
      "Epoch 15/50\n",
      "600/600 - 12s - loss: 0.0097 - accuracy: 0.9969 - val_loss: 0.5448 - val_accuracy: 0.9283\n",
      "Epoch 16/50\n",
      "600/600 - 11s - loss: 0.0123 - accuracy: 0.9964 - val_loss: 0.4158 - val_accuracy: 0.9300\n",
      "Restoring model weights from the end of the best epoch.\n",
      "Epoch 00016: early stopping\n"
     ]
    }
   ],
   "source": [
    "# Fit model\n",
    "model_2_history = model_2.fit(train_sentences,\n",
    "                              train_labels,\n",
    "                              epochs=50,\n",
    "                              validation_data=(val_sentences, val_labels), callbacks=[earlystop], verbose=2)"
   ]
  },
  {
   "cell_type": "markdown",
   "id": "a807dfe3",
   "metadata": {},
   "source": [
    "## Evaluasi Model"
   ]
  },
  {
   "cell_type": "markdown",
   "id": "1551409d",
   "metadata": {},
   "source": [
    "Pada bagian ini, dilakukan evaluasi model yang harus menunjukkan bagaimana performa model berdasarkan metrics yang dipilih. Hal ini harus dibuktikan dengan visualisasi tren performa dan/atau tingkat kesalahan model."
   ]
  },
  {
   "cell_type": "markdown",
   "id": "4ea4c5c4",
   "metadata": {},
   "source": [
    "### 1. Model LSTM"
   ]
  },
  {
   "cell_type": "code",
   "execution_count": 90,
   "id": "c4aeca0a",
   "metadata": {
    "ExecuteTime": {
     "end_time": "2021-09-15T23:03:47.161105Z",
     "start_time": "2021-09-15T23:03:44.856442Z"
    }
   },
   "outputs": [
    {
     "data": {
      "text/plain": [
       "array([[2.93864915e-03, 2.80775465e-02, 9.68983769e-01],\n",
       "       [6.73255920e-02, 5.07509187e-02, 8.81923437e-01],\n",
       "       [9.32916100e-06, 4.83980584e-05, 9.99942303e-01],\n",
       "       [1.21579171e-04, 3.48323025e-04, 9.99530077e-01],\n",
       "       [5.09765050e-05, 7.13591988e-04, 9.99235392e-01],\n",
       "       [4.14968375e-03, 1.43968733e-02, 9.81453419e-01],\n",
       "       [2.33252686e-05, 1.09768334e-04, 9.99866843e-01],\n",
       "       [2.05447854e-04, 9.98100102e-01, 1.69441476e-03],\n",
       "       [3.49983711e-05, 5.87582879e-04, 9.99377429e-01],\n",
       "       [2.25191652e-05, 1.43988640e-04, 9.99833465e-01]], dtype=float32)"
      ]
     },
     "execution_count": 90,
     "metadata": {},
     "output_type": "execute_result"
    }
   ],
   "source": [
    "# Buat prediksi\n",
    "model_1_pred_probs = model_1.predict(val_sentences)\n",
    "model_1_pred_probs[:10] # prediksi dari 10 data teratas"
   ]
  },
  {
   "cell_type": "code",
   "execution_count": 91,
   "id": "17a12a05",
   "metadata": {
    "ExecuteTime": {
     "end_time": "2021-09-15T23:03:48.201124Z",
     "start_time": "2021-09-15T23:03:48.177121Z"
    }
   },
   "outputs": [
    {
     "data": {
      "text/plain": [
       "array([2, 2, 2, 2, 2, 2, 2, 1, 2, 2], dtype=int64)"
      ]
     },
     "execution_count": 91,
     "metadata": {},
     "output_type": "execute_result"
    }
   ],
   "source": [
    "model_1_pred_probs[:10].argmax(axis=1)"
   ]
  },
  {
   "cell_type": "code",
   "execution_count": 92,
   "id": "e845656e",
   "metadata": {
    "ExecuteTime": {
     "end_time": "2021-09-15T23:03:51.809411Z",
     "start_time": "2021-09-15T23:03:51.785414Z"
    }
   },
   "outputs": [],
   "source": [
    "from sklearn.metrics import accuracy_score, precision_recall_fscore_support\n",
    "\n",
    "def calculate_results(y_true, y_pred):\n",
    "  model_accuracy = accuracy_score(y_true, y_pred) * 100\n",
    "  model_precision, model_recall, model_f1, _ = precision_recall_fscore_support(y_true, y_pred, average=\"weighted\")\n",
    "  model_results = {\"accuracy\": model_accuracy,\n",
    "                  \"precision\": model_precision,\n",
    "                  \"recall\": model_recall,\n",
    "                  \"f1\": model_f1}\n",
    "  return model_results"
   ]
  },
  {
   "cell_type": "code",
   "execution_count": 93,
   "id": "c3812a01",
   "metadata": {
    "ExecuteTime": {
     "end_time": "2021-09-15T23:03:55.514758Z",
     "start_time": "2021-09-15T23:03:53.297257Z"
    }
   },
   "outputs": [
    {
     "data": {
      "text/plain": [
       "{'accuracy': 94.33333333333334,\n",
       " 'precision': 0.9413237872232071,\n",
       " 'recall': 0.9433333333333334,\n",
       " 'f1': 0.941656285569424}"
      ]
     },
     "execution_count": 93,
     "metadata": {},
     "output_type": "execute_result"
    }
   ],
   "source": [
    "y_pred = model_1.predict(X_test)\n",
    "model_1_results = calculate_results(y_true=y_test.argmax(axis=1), \n",
    "                                    y_pred=y_pred.argmax(axis=1))\n",
    "model_1_results"
   ]
  },
  {
   "cell_type": "code",
   "execution_count": 94,
   "id": "e4555812",
   "metadata": {
    "ExecuteTime": {
     "end_time": "2021-09-15T23:03:57.225654Z",
     "start_time": "2021-09-15T23:03:55.514758Z"
    }
   },
   "outputs": [
    {
     "name": "stdout",
     "output_type": "stream",
     "text": [
      "AUC score: 0.9797912276678659\n"
     ]
    }
   ],
   "source": [
    "print ('AUC score:',roc_auc_score(y_test,model_1.predict(X_test),multi_class='ovo'))"
   ]
  },
  {
   "cell_type": "code",
   "execution_count": 79,
   "id": "1bea713e",
   "metadata": {
    "ExecuteTime": {
     "end_time": "2021-09-15T22:55:06.769127Z",
     "start_time": "2021-09-15T22:55:06.453409Z"
    }
   },
   "outputs": [
    {
     "data": {
      "image/png": "[encoded data removed]",
      "text/plain": [
       "<Figure size 576x360 with 1 Axes>"
      ]
     },
     "metadata": {
      "needs_background": "light"
     },
     "output_type": "display_data"
    }
   ],
   "source": [
    "pd.DataFrame(model_1_history.history).plot(figsize=(8, 5))\n",
    "plt.grid(True)\n",
    "plt.gca().set_ylim(0, 1.1)\n",
    "plt.show()"
   ]
  },
  {
   "cell_type": "code",
   "execution_count": 61,
   "id": "72a6e82a",
   "metadata": {
    "ExecuteTime": {
     "end_time": "2021-09-15T22:48:40.961166Z",
     "start_time": "2021-09-15T22:48:40.937166Z"
    }
   },
   "outputs": [],
   "source": [
    "acc = model_1_history.history['accuracy']\n",
    "val_acc = model_1_history.history['val_accuracy']\n",
    "\n",
    "loss = model_1_history.history['loss']\n",
    "val_loss = model_1_history.history['val_loss']"
   ]
  },
  {
   "cell_type": "code",
   "execution_count": 62,
   "id": "6f90dbfb",
   "metadata": {
    "ExecuteTime": {
     "end_time": "2021-09-15T22:48:41.639152Z",
     "start_time": "2021-09-15T22:48:40.961166Z"
    }
   },
   "outputs": [
    {
     "data": {
      "text/plain": [
       "Text(0.5, 1.0, 'Training and Validation loss')"
      ]
     },
     "execution_count": 62,
     "metadata": {},
     "output_type": "execute_result"
    },
    {
     "data": {
      "image/png": "[encoded data removed]",
      "text/plain": [
       "<Figure size 1440x504 with 2 Axes>"
      ]
     },
     "metadata": {
      "needs_background": "light"
     },
     "output_type": "display_data"
    }
   ],
   "source": [
    "plt.figure(figsize=(20,7))\n",
    "plt.subplot(1,2,1)\n",
    "plt.plot(acc, label = 'Training Accuracy')\n",
    "plt.plot(loss, label = 'Training loss')\n",
    "plt.legend(loc='lower right')\n",
    "plt.title('Training and Validation Accuracy')\n",
    "\n",
    "plt.subplot(1,2,2)\n",
    "plt.plot(val_acc, label = 'Validation Accuracy')\n",
    "plt.plot(val_loss, label = 'Validation loss')\n",
    "plt.legend(loc='lower right')\n",
    "plt.title('Training and Validation loss')"
   ]
  },
  {
   "cell_type": "code",
   "execution_count": 63,
   "id": "f1e3050e",
   "metadata": {
    "ExecuteTime": {
     "end_time": "2021-09-15T22:48:44.218455Z",
     "start_time": "2021-09-15T22:48:41.639152Z"
    }
   },
   "outputs": [
    {
     "name": "stdout",
     "output_type": "stream",
     "text": [
      "188/188 [==============================] - 2s 6ms/step - loss: 0.1575 - accuracy: 0.9398\n"
     ]
    },
    {
     "data": {
      "text/plain": [
       "[0.15753114223480225, 0.9398333430290222]"
      ]
     },
     "execution_count": 63,
     "metadata": {},
     "output_type": "execute_result"
    }
   ],
   "source": [
    "model_1.evaluate(X_test,y_test)"
   ]
  },
  {
   "cell_type": "markdown",
   "id": "b5deba57",
   "metadata": {},
   "source": [
    "### 2. Model GRU"
   ]
  },
  {
   "cell_type": "code",
   "execution_count": 69,
   "id": "b94b418b",
   "metadata": {
    "ExecuteTime": {
     "end_time": "2021-09-15T22:53:07.832342Z",
     "start_time": "2021-09-15T22:53:06.310453Z"
    }
   },
   "outputs": [
    {
     "data": {
      "text/plain": [
       "array([[2.7742365e-04, 2.8921044e-02, 9.7080159e-01],\n",
       "       [4.3387499e-02, 5.7506762e-02, 8.9910573e-01],\n",
       "       [2.6583491e-06, 2.1054638e-04, 9.9978679e-01],\n",
       "       [8.0429991e-06, 4.4725023e-04, 9.9954468e-01],\n",
       "       [3.7602564e-05, 8.5634850e-03, 9.9139893e-01],\n",
       "       [6.6684571e-04, 2.2593010e-02, 9.7674018e-01],\n",
       "       [3.8301337e-06, 3.0265903e-04, 9.9969351e-01],\n",
       "       [8.7983970e-04, 9.9826825e-01, 8.5194805e-04],\n",
       "       [1.4261389e-05, 4.5819762e-03, 9.9540377e-01],\n",
       "       [5.7192287e-06, 7.4783026e-04, 9.9924648e-01]], dtype=float32)"
      ]
     },
     "execution_count": 69,
     "metadata": {},
     "output_type": "execute_result"
    }
   ],
   "source": [
    "# Buat prediksi\n",
    "model_2_pred_probs = model_2.predict(val_sentences)\n",
    "model_2_pred_probs[:10] # prediksi dari 10 data teratas"
   ]
  },
  {
   "cell_type": "code",
   "execution_count": 70,
   "id": "bcfdab84",
   "metadata": {
    "ExecuteTime": {
     "end_time": "2021-09-15T22:53:10.784803Z",
     "start_time": "2021-09-15T22:53:10.768799Z"
    }
   },
   "outputs": [
    {
     "data": {
      "text/plain": [
       "array([2, 2, 2, 2, 2, 2, 2, 1, 2, 2], dtype=int64)"
      ]
     },
     "execution_count": 70,
     "metadata": {},
     "output_type": "execute_result"
    }
   ],
   "source": [
    "model_2_pred_probs[:10].argmax(axis=1)"
   ]
  },
  {
   "cell_type": "code",
   "execution_count": 71,
   "id": "83c7485e",
   "metadata": {
    "ExecuteTime": {
     "end_time": "2021-09-15T22:53:12.052499Z",
     "start_time": "2021-09-15T22:53:12.028504Z"
    }
   },
   "outputs": [],
   "source": [
    "from sklearn.metrics import accuracy_score, precision_recall_fscore_support\n",
    "\n",
    "def calculate_results(y_true, y_pred):\n",
    "  model_accuracy = accuracy_score(y_true, y_pred) * 100,\n",
    "  model_precision, model_recall, model_f1, _ = precision_recall_fscore_support(y_true, y_pred, average=\"weighted\")\n",
    "  model_results = {\"accuracy\": model_accuracy,\n",
    "                  \"precision\": model_precision,\n",
    "                  \"recall\": model_recall,\n",
    "                  \"f1\": model_f1}\n",
    "  return model_results"
   ]
  },
  {
   "cell_type": "code",
   "execution_count": 72,
   "id": "fa2918e3",
   "metadata": {
    "ExecuteTime": {
     "end_time": "2021-09-15T22:53:15.724748Z",
     "start_time": "2021-09-15T22:53:13.559759Z"
    }
   },
   "outputs": [
    {
     "data": {
      "text/plain": [
       "{'accuracy': (94.11666666666667,),\n",
       " 'precision': 0.9392845666364571,\n",
       " 'recall': 0.9411666666666667,\n",
       " 'f1': 0.9387434126483135}"
      ]
     },
     "execution_count": 72,
     "metadata": {},
     "output_type": "execute_result"
    }
   ],
   "source": [
    "y_pred = model_2.predict(X_test)\n",
    "model_2_results = calculate_results(y_true=y_test.argmax(axis=1), \n",
    "                                    y_pred=y_pred.argmax(axis=1))\n",
    "model_2_results"
   ]
  },
  {
   "cell_type": "code",
   "execution_count": 73,
   "id": "e32e7dad",
   "metadata": {
    "ExecuteTime": {
     "end_time": "2021-09-15T22:53:17.650786Z",
     "start_time": "2021-09-15T22:53:16.680541Z"
    }
   },
   "outputs": [
    {
     "name": "stdout",
     "output_type": "stream",
     "text": [
      "AUC score: 0.9774643137716753\n"
     ]
    }
   ],
   "source": [
    "print ('AUC score:',roc_auc_score(y_test,model_2.predict(X_test),multi_class='ovo'))"
   ]
  },
  {
   "cell_type": "code",
   "execution_count": 78,
   "id": "b9366ed1",
   "metadata": {
    "ExecuteTime": {
     "end_time": "2021-09-15T22:54:14.782893Z",
     "start_time": "2021-09-15T22:54:14.235247Z"
    }
   },
   "outputs": [
    {
     "data": {
      "image/png": "[encoded data removed]",
      "text/plain": [
       "<Figure size 576x360 with 1 Axes>"
      ]
     },
     "metadata": {
      "needs_background": "light"
     },
     "output_type": "display_data"
    }
   ],
   "source": [
    "pd.DataFrame(model_2_history.history).plot(figsize=(8, 5))\n",
    "plt.grid(True)\n",
    "plt.gca().set_ylim(0, 1.1)\n",
    "plt.show()"
   ]
  },
  {
   "cell_type": "code",
   "execution_count": 79,
   "id": "c5e4f7a0",
   "metadata": {
    "ExecuteTime": {
     "end_time": "2021-09-15T12:56:28.277312Z",
     "start_time": "2021-09-15T12:56:28.261309Z"
    }
   },
   "outputs": [],
   "source": [
    "acc = model_2_history.history['accuracy']\n",
    "val_acc = model_2_history.history['val_accuracy']\n",
    "\n",
    "loss = model_2_history.history['loss']\n",
    "val_loss = model_2_history.history['val_loss']"
   ]
  },
  {
   "cell_type": "code",
   "execution_count": 86,
   "id": "dec1ad42",
   "metadata": {
    "ExecuteTime": {
     "end_time": "2021-09-15T13:01:59.802203Z",
     "start_time": "2021-09-15T13:01:59.439874Z"
    }
   },
   "outputs": [
    {
     "data": {
      "text/plain": [
       "Text(0.5, 1.0, 'Training and Validation loss')"
      ]
     },
     "execution_count": 86,
     "metadata": {},
     "output_type": "execute_result"
    },
    {
     "data": {
      "image/png": "[encoded data removed]",
      "text/plain": [
       "<Figure size 1440x504 with 2 Axes>"
      ]
     },
     "metadata": {
      "needs_background": "light"
     },
     "output_type": "display_data"
    }
   ],
   "source": [
    "plt.figure(figsize=(20,7))\n",
    "plt.subplot(1,2,1)\n",
    "plt.plot(acc, label = 'Training Accuracy')\n",
    "plt.plot(loss, label = 'Training loss')\n",
    "plt.legend(loc='lower right')\n",
    "plt.title('Training and Validation Accuracy')\n",
    "\n",
    "plt.subplot(1,2,2)\n",
    "plt.plot(val_acc, label = 'Validation Accuracy')\n",
    "plt.plot(val_loss, label = 'Validation loss')\n",
    "plt.legend(loc='lower right')\n",
    "plt.title('Training and Validation loss')"
   ]
  },
  {
   "cell_type": "code",
   "execution_count": 81,
   "id": "32ede6d9",
   "metadata": {
    "ExecuteTime": {
     "end_time": "2021-09-15T12:56:33.229149Z",
     "start_time": "2021-09-15T12:56:31.158622Z"
    }
   },
   "outputs": [
    {
     "name": "stdout",
     "output_type": "stream",
     "text": [
      "188/188 [==============================] - 1s 4ms/step - loss: 0.1703 - accuracy: 0.9497\n"
     ]
    },
    {
     "data": {
      "text/plain": [
       "[0.1703476756811142, 0.9496666789054871]"
      ]
     },
     "execution_count": 81,
     "metadata": {},
     "output_type": "execute_result"
    }
   ],
   "source": [
    "model_2.evaluate(X_test,y_test)"
   ]
  },
  {
   "cell_type": "markdown",
   "id": "0c6244b7",
   "metadata": {},
   "source": [
    "## Model Inference"
   ]
  },
  {
   "cell_type": "markdown",
   "id": "30b16aba",
   "metadata": {},
   "source": [
    "Bagian ini diisi dengan model inference, di mana model yang sudah kita latih akan dicoba pada data selain data yang sudah tersedia. Data yang dimaksud bisa berupa data buatan oleh student, ataupun data yang ada pada internet."
   ]
  },
  {
   "cell_type": "markdown",
   "id": "705c0517",
   "metadata": {},
   "source": [
    "##### Mencoba pengujian dengan data yang dibuat student"
   ]
  },
  {
   "cell_type": "markdown",
   "id": "3e72cf9e",
   "metadata": {},
   "source": [
    "### Prediction"
   ]
  },
  {
   "cell_type": "code",
   "execution_count": 80,
   "id": "8a09feb5",
   "metadata": {
    "ExecuteTime": {
     "end_time": "2021-09-15T22:55:48.921995Z",
     "start_time": "2021-09-15T22:55:48.250846Z"
    }
   },
   "outputs": [
    {
     "data": {
      "text/plain": [
       "array([1, 1, 2], dtype=int64)"
      ]
     },
     "execution_count": 80,
     "metadata": {},
     "output_type": "execute_result"
    }
   ],
   "source": [
    "# inference data baru\n",
    "\n",
    "sms_baru = [\n",
    "            \"supperrrrrr\",\n",
    "            \"barang rusak, dasar penipu\",\n",
    "            \"keren, bagus promonya banyak\"\n",
    "]\n",
    "\n",
    "\n",
    "hasil = model_1.predict(sms_baru)\n",
    "hasil.argmax(axis=1)"
   ]
  },
  {
   "cell_type": "markdown",
   "id": "1774555a",
   "metadata": {},
   "source": [
    "## Pengambilan Kesimpulan"
   ]
  },
  {
   "cell_type": "markdown",
   "id": "20779f9e",
   "metadata": {},
   "source": [
    "Pada bab terakhir ini, harus berisi kesimpulan yang mencerminkan hasil yang didapat dengan dibandingkan dengan objective yang sudah ditulis di bagian pengenalan."
   ]
  },
  {
   "cell_type": "markdown",
   "id": "1e6d60e0",
   "metadata": {},
   "source": [
    "### Analysis Data"
   ]
  },
  {
   "cell_type": "code",
   "execution_count": 112,
   "id": "951a27ca",
   "metadata": {
    "ExecuteTime": {
     "end_time": "2021-09-15T23:20:43.122023Z",
     "start_time": "2021-09-15T23:20:41.783767Z"
    }
   },
   "outputs": [],
   "source": [
    "X=df_raw['text'].apply(lambda x: proc_feature(x)) #Filter karakter dan beberapa kata"
   ]
  },
  {
   "cell_type": "code",
   "execution_count": 115,
   "id": "c098f3bb",
   "metadata": {
    "ExecuteTime": {
     "end_time": "2021-09-15T23:21:37.299555Z",
     "start_time": "2021-09-15T23:21:31.780473Z"
    }
   },
   "outputs": [],
   "source": [
    "pred=model_1.predict(X) #Memprediksi data keseluruhan"
   ]
  },
  {
   "cell_type": "code",
   "execution_count": 118,
   "id": "57f1d4eb",
   "metadata": {
    "ExecuteTime": {
     "end_time": "2021-09-15T23:22:48.913690Z",
     "start_time": "2021-09-15T23:22:48.895692Z"
    }
   },
   "outputs": [],
   "source": [
    "df_raw['sentiment'] = pred.argmax(axis=1)"
   ]
  },
  {
   "cell_type": "code",
   "execution_count": 138,
   "id": "21f648b7",
   "metadata": {
    "ExecuteTime": {
     "end_time": "2021-09-15T23:42:11.642843Z",
     "start_time": "2021-09-15T23:42:11.606831Z"
    }
   },
   "outputs": [],
   "source": [
    "df_raw['sentiment']=df_raw['sentiment'].replace({0:'Negatif',1:'Netral',2:'Positif'})"
   ]
  },
  {
   "cell_type": "code",
   "execution_count": 139,
   "id": "43285ecc",
   "metadata": {
    "ExecuteTime": {
     "end_time": "2021-09-15T23:42:12.022826Z",
     "start_time": "2021-09-15T23:42:11.744830Z"
    }
   },
   "outputs": [
    {
     "data": {
      "text/plain": [
       "<AxesSubplot:title={'center':'Analisa Product Reviews Tokopedia'}, ylabel='sentiment'>"
      ]
     },
     "execution_count": 139,
     "metadata": {},
     "output_type": "execute_result"
    },
    {
     "data": {
      "image/png": "[encoded data removed]",
      "text/plain": [
       "<Figure size 1152x576 with 1 Axes>"
      ]
     },
     "metadata": {},
     "output_type": "display_data"
    }
   ],
   "source": [
    "df_raw['sentiment'].value_counts().plot(\n",
    "    kind='pie',\n",
    "    figsize=(16, 8),\n",
    "    autopct='%1.1f%%',\n",
    "    title='Analisa Product Reviews Tokopedia')"
   ]
  },
  {
   "cell_type": "code",
   "execution_count": 140,
   "id": "44179c4f",
   "metadata": {
    "ExecuteTime": {
     "end_time": "2021-09-15T23:42:20.575555Z",
     "start_time": "2021-09-15T23:42:20.354754Z"
    }
   },
   "outputs": [
    {
     "data": {
      "text/plain": [
       "<AxesSubplot:title={'center':'Category Sentimen Positif'}>"
      ]
     },
     "execution_count": 140,
     "metadata": {},
     "output_type": "execute_result"
    },
    {
     "data": {
      "image/png": "[encoded data removed]",
      "text/plain": [
       "<Figure size 432x288 with 1 Axes>"
      ]
     },
     "metadata": {
      "needs_background": "light"
     },
     "output_type": "display_data"
    }
   ],
   "source": [
    "df_raw[df_raw['sentiment'] == 'Positif']['category'].value_counts()[:6].plot(\n",
    "    kind='bar', title='Category Sentimen Positif')"
   ]
  },
  {
   "cell_type": "code",
   "execution_count": 142,
   "id": "4974c0f2",
   "metadata": {
    "ExecuteTime": {
     "end_time": "2021-09-15T23:43:34.315666Z",
     "start_time": "2021-09-15T23:43:34.136742Z"
    }
   },
   "outputs": [
    {
     "data": {
      "text/plain": [
       "<AxesSubplot:title={'center':'Category Sentimen Negatif'}>"
      ]
     },
     "execution_count": 142,
     "metadata": {},
     "output_type": "execute_result"
    },
    {
     "data": {
      "image/png": "[encoded data removed]",
      "text/plain": [
       "<Figure size 432x288 with 1 Axes>"
      ]
     },
     "metadata": {
      "needs_background": "light"
     },
     "output_type": "display_data"
    }
   ],
   "source": [
    "df_raw[df_raw['sentiment'] == 'Negatif']['category'].value_counts()[:6].plot(\n",
    "    kind='bar', title='Category Sentimen Negatif')"
   ]
  },
  {
   "cell_type": "code",
   "execution_count": 143,
   "id": "3b589050",
   "metadata": {
    "ExecuteTime": {
     "end_time": "2021-09-15T23:44:12.060489Z",
     "start_time": "2021-09-15T23:44:11.857180Z"
    }
   },
   "outputs": [
    {
     "data": {
      "text/plain": [
       "<AxesSubplot:title={'center':'Category Sentimen Netral'}>"
      ]
     },
     "execution_count": 143,
     "metadata": {},
     "output_type": "execute_result"
    },
    {
     "data": {
      "image/png": "[encoded data removed]",
      "text/plain": [
       "<Figure size 432x288 with 1 Axes>"
      ]
     },
     "metadata": {
      "needs_background": "light"
     },
     "output_type": "display_data"
    }
   ],
   "source": [
    "df_raw[df_raw['sentiment'] == 'Netral']['category'].value_counts()[:6].plot(\n",
    "    kind='bar', title='Category Sentimen Netral')"
   ]
  },
  {
   "cell_type": "code",
   "execution_count": 135,
   "id": "feb37c16",
   "metadata": {
    "ExecuteTime": {
     "end_time": "2021-09-15T23:33:20.878558Z",
     "start_time": "2021-09-15T23:33:20.628559Z"
    }
   },
   "outputs": [
    {
     "data": {
      "text/plain": [
       "<AxesSubplot:title={'center':'Category Sentimen Positif'}>"
      ]
     },
     "execution_count": 135,
     "metadata": {},
     "output_type": "execute_result"
    },
    {
     "data": {
      "image/png": "[encoded data removed]",
      "text/plain": [
       "<Figure size 432x288 with 1 Axes>"
      ]
     },
     "metadata": {
      "needs_background": "light"
     },
     "output_type": "display_data"
    }
   ],
   "source": [
    "df_raw[df_raw['sentiment'] == 'Positif']['product_name'].value_counts()[:6].plot(\n",
    "    kind='bar', title='Category Sentimen Positif')"
   ]
  },
  {
   "cell_type": "code",
   "execution_count": 159,
   "id": "7e437af4",
   "metadata": {
    "ExecuteTime": {
     "end_time": "2021-09-16T00:11:51.252775Z",
     "start_time": "2021-09-16T00:11:51.021835Z"
    }
   },
   "outputs": [
    {
     "data": {
      "text/plain": [
       "<AxesSubplot:title={'center':'Retweet'}, xlabel='sentiment'>"
      ]
     },
     "execution_count": 159,
     "metadata": {},
     "output_type": "execute_result"
    },
    {
     "data": {
      "image/png": "[encoded data removed]",
      "text/plain": [
       "<Figure size 432x288 with 1 Axes>"
      ]
     },
     "metadata": {
      "needs_background": "light"
     },
     "output_type": "display_data"
    }
   ],
   "source": [
    "df_raw.groupby('sentiment').sum()['rating'].plot(kind='bar',color='red',title='Retweet')"
   ]
  },
  {
   "cell_type": "markdown",
   "id": "6246a5a0",
   "metadata": {},
   "source": [
    "### Saving Model"
   ]
  },
  {
   "cell_type": "markdown",
   "id": "23e64d54",
   "metadata": {},
   "source": [
    "Model yang disimpan adalah lstm, dikarenakan mempunyai akurasi yang tinggi"
   ]
  },
  {
   "cell_type": "code",
   "execution_count": 129,
   "id": "2990d8d2",
   "metadata": {
    "ExecuteTime": {
     "end_time": "2021-09-15T14:01:21.276947Z",
     "start_time": "2021-09-15T14:01:15.265248Z"
    }
   },
   "outputs": [
    {
     "name": "stderr",
     "output_type": "stream",
     "text": [
      "WARNING:absl:Found untraced functions such as lstm_cell_layer_call_fn, lstm_cell_layer_call_and_return_conditional_losses, lstm_cell_layer_call_fn, lstm_cell_layer_call_and_return_conditional_losses, lstm_cell_layer_call_and_return_conditional_losses while saving (showing 5 of 5). These functions will not be directly callable after loading.\n"
     ]
    },
    {
     "name": "stdout",
     "output_type": "stream",
     "text": [
      "INFO:tensorflow:Assets written to: ./save_model\\assets\n"
     ]
    },
    {
     "name": "stderr",
     "output_type": "stream",
     "text": [
      "INFO:tensorflow:Assets written to: ./save_model\\assets\n"
     ]
    }
   ],
   "source": [
    "filepath = './save_model'\n",
    "tf.keras.models.save_model(\n",
    "    model_1,\n",
    "    filepath,\n",
    "    overwrite=True,\n",
    "    include_optimizer=True,\n",
    "    save_format=None,\n",
    "    signatures=None,\n",
    "    options=None,\n",
    "    save_traces=True,\n",
    ")"
   ]
  },
  {
   "cell_type": "code",
   "execution_count": null,
   "id": "62dcf653",
   "metadata": {},
   "outputs": [],
   "source": []
  },
  {
   "cell_type": "code",
   "execution_count": null,
   "id": "4725c54e",
   "metadata": {},
   "outputs": [],
   "source": []
  }
 ],
 "metadata": {
  "kernelspec": {
   "display_name": "Python 3 (ipykernel)",
   "language": "python",
   "name": "python3"
  },
  "language_info": {
   "codemirror_mode": {
    "name": "ipython",
    "version": 3
   },
   "file_extension": ".py",
   "mimetype": "text/x-python",
   "name": "python",
   "nbconvert_exporter": "python",
   "pygments_lexer": "ipython3",
   "version": "3.9.6"
  }
 },
 "nbformat": 4,
 "nbformat_minor": 5
}
